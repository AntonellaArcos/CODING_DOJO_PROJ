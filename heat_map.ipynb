{
  "nbformat": 4,
  "nbformat_minor": 0,
  "metadata": {
    "colab": {
      "name": "heat_map",
      "provenance": []
    },
    "kernelspec": {
      "name": "python3",
      "display_name": "Python 3"
    },
    "language_info": {
      "name": "python"
    }
  },
  "cells": [
    {
      "cell_type": "code",
      "execution_count": 1,
      "metadata": {
        "id": "iRp84RnColm1"
      },
      "outputs": [],
      "source": [
        "# Importar una librería\n",
        "import os\n",
        "import pandas as pd\n",
        "import numpy as np\n",
        "\n",
        "import matplotlib.pyplot as plt\n",
        "import matplotlib.ticker as mtick\n",
        "import seaborn as sns\n",
        "\n",
        "from google.colab import drive"
      ]
    },
    {
      "cell_type": "code",
      "source": [
        "matriz=np.array([[87, 16],[17, 59]])\n",
        "matriz\n"
      ],
      "metadata": {
        "colab": {
          "base_uri": "https://localhost:8080/"
        },
        "id": "mDNAE5stpY47",
        "outputId": "c8eb7abe-6f2b-47f8-91eb-9d7d73a848e9"
      },
      "execution_count": 3,
      "outputs": [
        {
          "output_type": "execute_result",
          "data": {
            "text/plain": [
              "array([[87, 16],\n",
              "       [17, 59]])"
            ]
          },
          "metadata": {},
          "execution_count": 3
        }
      ]
    },
    {
      "cell_type": "code",
      "source": [
        "#Accuracy\n",
        "acc=np.trace(matriz)/matriz.sum()\n",
        "acc"
      ],
      "metadata": {
        "colab": {
          "base_uri": "https://localhost:8080/"
        },
        "id": "v6iFRm838hTy",
        "outputId": "c15ac9b4-525d-43dd-dd5b-4b2ac00bae73"
      },
      "execution_count": 6,
      "outputs": [
        {
          "output_type": "execute_result",
          "data": {
            "text/plain": [
              "0.8156424581005587"
            ]
          },
          "metadata": {},
          "execution_count": 6
        }
      ]
    },
    {
      "cell_type": "code",
      "source": [
        "ax=sns.heatmap(matriz, annot=True, cmap='Blues')\n",
        "ax.set_title('Confusion Matrix \\n Accuracy Score: {}'.format(acc))\n",
        "ax.set_ylabel('Actual Values')\n",
        "ax.yaxis.set_ticklabels(['False', 'True'])\n",
        "ax.set_xlabel('Predicted Values')\n",
        "ax.xaxis.set_ticklabels(['False', 'True']);"
      ],
      "metadata": {
        "colab": {
          "base_uri": "https://localhost:8080/",
          "height": 309
        },
        "id": "nchCOJaC8wA6",
        "outputId": "960cce8d-23a2-4bc9-c3d6-2e38b7d92be0"
      },
      "execution_count": 8,
      "outputs": [
        {
          "output_type": "display_data",
          "data": {
            "image/png": "[encoded data removed]",
            "text/plain": [
              "<Figure size 432x288 with 2 Axes>"
            ]
          },
          "metadata": {
            "needs_background": "light"
          }
        }
      ]
    }
  ]
}