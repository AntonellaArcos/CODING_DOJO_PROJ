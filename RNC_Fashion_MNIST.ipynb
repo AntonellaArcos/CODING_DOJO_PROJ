{
  "nbformat": 4,
  "nbformat_minor": 0,
  "metadata": {
    "colab": {
      "name": "RNC Fashion MNIST.ipynb",
      "provenance": []
    },
    "kernelspec": {
      "name": "python3",
      "display_name": "Python 3"
    },
    "language_info": {
      "name": "python"
    }
  },
  "cells": [
    {
      "cell_type": "markdown",
      "source": [
        "#**Ejercicios sobre RNC**\n",
        "###**Elaborado por:**Antonella Arcos"
      ],
      "metadata": {
        "id": "riom-0ieWo-o"
      }
    },
    {
      "cell_type": "markdown",
      "source": [
        "El conjunto de datos de moda MNIST es otro conjunto popular para la evaluación de modelos de visión computarizada. Consiste de 60,000 imágenes de entrenamiento, cada una es una imagen en escala de grises de 28x28, proveniente de 1 de 10 clases:\n",
        "\n",
        "0 Polera/top\n",
        "1 Pantalón\n",
        "2 Suéter\n",
        "3 Vestido\n",
        "4 Abrigo\n",
        "5 Sandalia\n",
        "6 Camisa\n",
        "7 Zapatilla\n",
        "8 Bolso\n",
        "9 Botín\n",
        "Tu tarea es usar una RNC para clasificar las imágenes como uno de los 10 artículos de vestimenta. Puedes descargar los datos desde Kaggle. Trata de construir el mejor modelo posible (que tenga la mayor precisión en los datos de prueba)."
      ],
      "metadata": {
        "id": "byEJJcXJWycE"
      }
    },
    {
      "cell_type": "code",
      "source": [
        "# Imports\n",
        "import numpy as np\n",
        "import matplotlib.pyplot as plt\n",
        "import pandas as pd\n",
        "from sklearn.preprocessing import StandardScaler\n",
        "from tensorflow.keras.models import Sequential\n",
        "from tensorflow.keras.layers import Dense, Flatten, Conv2D, MaxPooling2D\n",
        "from tensorflow.keras.utils import to_categorical\n",
        "from tensorflow.keras.datasets import mnist\n",
        "from sklearn.model_selection import train_test_split\n",
        "from sklearn.metrics import classification_report\n",
        "from tensorflow.python import keras\n",
        "from keras.utils import np_utils"
      ],
      "metadata": {
        "id": "E_VpoH7WWrUM"
      },
      "execution_count": 20,
      "outputs": []
    },
    {
      "cell_type": "code",
      "source": [
        "from google.colab import drive\n",
        "drive.mount('/content/drive')"
      ],
      "metadata": {
        "colab": {
          "base_uri": "https://localhost:8080/"
        },
        "id": "HPRl57S1XZDE",
        "outputId": "7e9bf6e3-b6eb-4e29-9066-bb5e89c2af20"
      },
      "execution_count": 2,
      "outputs": [
        {
          "output_type": "stream",
          "name": "stdout",
          "text": [
            "Mounted at /content/drive\n"
          ]
        }
      ]
    },
    {
      "cell_type": "code",
      "source": [
        "# Obtener datos\n",
        "test_df = pd.read_csv('/content/drive/MyDrive/CODING_DOJO/Week_11/fashion-mnist_test.csv')\n",
        "train_df = pd.read_csv('/content/drive/MyDrive/CODING_DOJO/Week_11/fashion-mnist_train.csv')"
      ],
      "metadata": {
        "id": "-fMQ4H_gXQdm"
      },
      "execution_count": 33,
      "outputs": []
    },
    {
      "cell_type": "code",
      "source": [
        "test_df.head()"
      ],
      "metadata": {
        "colab": {
          "base_uri": "https://localhost:8080/",
          "height": 297
        },
        "id": "PcKDxygphopg",
        "outputId": "f9e6a2db-40f5-44da-b3ac-a92f78694961"
      },
      "execution_count": 34,
      "outputs": [
        {
          "output_type": "execute_result",
          "data": {
            "text/plain": [
              "   label  pixel1  pixel2  pixel3  pixel4  pixel5  pixel6  pixel7  pixel8  \\\n",
              "0      0       0       0       0       0       0       0       0       9   \n",
              "1      1       0       0       0       0       0       0       0       0   \n",
              "2      2       0       0       0       0       0       0      14      53   \n",
              "3      2       0       0       0       0       0       0       0       0   \n",
              "4      3       0       0       0       0       0       0       0       0   \n",
              "\n",
              "   pixel9  ...  pixel775  pixel776  pixel777  pixel778  pixel779  pixel780  \\\n",
              "0       8  ...       103        87        56         0         0         0   \n",
              "1       0  ...        34         0         0         0         0         0   \n",
              "2      99  ...         0         0         0         0        63        53   \n",
              "3       0  ...       137       126       140         0       133       224   \n",
              "4       0  ...         0         0         0         0         0         0   \n",
              "\n",
              "   pixel781  pixel782  pixel783  pixel784  \n",
              "0         0         0         0         0  \n",
              "1         0         0         0         0  \n",
              "2        31         0         0         0  \n",
              "3       222        56         0         0  \n",
              "4         0         0         0         0  \n",
              "\n",
              "[5 rows x 785 columns]"
            ],
            "text/html": [
              "\n",
              "  <div id=\"df-1de2fdd8-76ae-4afb-9185-587ed0c394db\">\n",
              "    <div class=\"colab-df-container\">\n",
              "      <div>\n",
              "<style scoped>\n",
              "    .dataframe tbody tr th:only-of-type {\n",
              "        vertical-align: middle;\n",
              "    }\n",
              "\n",
              "    .dataframe tbody tr th {\n",
              "        vertical-align: top;\n",
              "    }\n",
              "\n",
              "    .dataframe thead th {\n",
              "        text-align: right;\n",
              "    }\n",
              "</style>\n",
              "<table border=\"1\" class=\"dataframe\">\n",
              "  <thead>\n",
              "    <tr style=\"text-align: right;\">\n",
              "      <th></th>\n",
              "      <th>label</th>\n",
              "      <th>pixel1</th>\n",
              "      <th>pixel2</th>\n",
              "      <th>pixel3</th>\n",
              "      <th>pixel4</th>\n",
              "      <th>pixel5</th>\n",
              "      <th>pixel6</th>\n",
              "      <th>pixel7</th>\n",
              "      <th>pixel8</th>\n",
              "      <th>pixel9</th>\n",
              "      <th>...</th>\n",
              "      <th>pixel775</th>\n",
              "      <th>pixel776</th>\n",
              "      <th>pixel777</th>\n",
              "      <th>pixel778</th>\n",
              "      <th>pixel779</th>\n",
              "      <th>pixel780</th>\n",
              "      <th>pixel781</th>\n",
              "      <th>pixel782</th>\n",
              "      <th>pixel783</th>\n",
              "      <th>pixel784</th>\n",
              "    </tr>\n",
              "  </thead>\n",
              "  <tbody>\n",
              "    <tr>\n",
              "      <th>0</th>\n",
              "      <td>0</td>\n",
              "      <td>0</td>\n",
              "      <td>0</td>\n",
              "      <td>0</td>\n",
              "      <td>0</td>\n",
              "      <td>0</td>\n",
              "      <td>0</td>\n",
              "      <td>0</td>\n",
              "      <td>9</td>\n",
              "      <td>8</td>\n",
              "      <td>...</td>\n",
              "      <td>103</td>\n",
              "      <td>87</td>\n",
              "      <td>56</td>\n",
              "      <td>0</td>\n",
              "      <td>0</td>\n",
              "      <td>0</td>\n",
              "      <td>0</td>\n",
              "      <td>0</td>\n",
              "      <td>0</td>\n",
              "      <td>0</td>\n",
              "    </tr>\n",
              "    <tr>\n",
              "      <th>1</th>\n",
              "      <td>1</td>\n",
              "      <td>0</td>\n",
              "      <td>0</td>\n",
              "      <td>0</td>\n",
              "      <td>0</td>\n",
              "      <td>0</td>\n",
              "      <td>0</td>\n",
              "      <td>0</td>\n",
              "      <td>0</td>\n",
              "      <td>0</td>\n",
              "      <td>...</td>\n",
              "      <td>34</td>\n",
              "      <td>0</td>\n",
              "      <td>0</td>\n",
              "      <td>0</td>\n",
              "      <td>0</td>\n",
              "      <td>0</td>\n",
              "      <td>0</td>\n",
              "      <td>0</td>\n",
              "      <td>0</td>\n",
              "      <td>0</td>\n",
              "    </tr>\n",
              "    <tr>\n",
              "      <th>2</th>\n",
              "      <td>2</td>\n",
              "      <td>0</td>\n",
              "      <td>0</td>\n",
              "      <td>0</td>\n",
              "      <td>0</td>\n",
              "      <td>0</td>\n",
              "      <td>0</td>\n",
              "      <td>14</td>\n",
              "      <td>53</td>\n",
              "      <td>99</td>\n",
              "      <td>...</td>\n",
              "      <td>0</td>\n",
              "      <td>0</td>\n",
              "      <td>0</td>\n",
              "      <td>0</td>\n",
              "      <td>63</td>\n",
              "      <td>53</td>\n",
              "      <td>31</td>\n",
              "      <td>0</td>\n",
              "      <td>0</td>\n",
              "      <td>0</td>\n",
              "    </tr>\n",
              "    <tr>\n",
              "      <th>3</th>\n",
              "      <td>2</td>\n",
              "      <td>0</td>\n",
              "      <td>0</td>\n",
              "      <td>0</td>\n",
              "      <td>0</td>\n",
              "      <td>0</td>\n",
              "      <td>0</td>\n",
              "      <td>0</td>\n",
              "      <td>0</td>\n",
              "      <td>0</td>\n",
              "      <td>...</td>\n",
              "      <td>137</td>\n",
              "      <td>126</td>\n",
              "      <td>140</td>\n",
              "      <td>0</td>\n",
              "      <td>133</td>\n",
              "      <td>224</td>\n",
              "      <td>222</td>\n",
              "      <td>56</td>\n",
              "      <td>0</td>\n",
              "      <td>0</td>\n",
              "    </tr>\n",
              "    <tr>\n",
              "      <th>4</th>\n",
              "      <td>3</td>\n",
              "      <td>0</td>\n",
              "      <td>0</td>\n",
              "      <td>0</td>\n",
              "      <td>0</td>\n",
              "      <td>0</td>\n",
              "      <td>0</td>\n",
              "      <td>0</td>\n",
              "      <td>0</td>\n",
              "      <td>0</td>\n",
              "      <td>...</td>\n",
              "      <td>0</td>\n",
              "      <td>0</td>\n",
              "      <td>0</td>\n",
              "      <td>0</td>\n",
              "      <td>0</td>\n",
              "      <td>0</td>\n",
              "      <td>0</td>\n",
              "      <td>0</td>\n",
              "      <td>0</td>\n",
              "      <td>0</td>\n",
              "    </tr>\n",
              "  </tbody>\n",
              "</table>\n",
              "<p>5 rows × 785 columns</p>\n",
              "</div>\n",
              "      <button class=\"colab-df-convert\" onclick=\"convertToInteractive('df-1de2fdd8-76ae-4afb-9185-587ed0c394db')\"\n",
              "              title=\"Convert this dataframe to an interactive table.\"\n",
              "              style=\"display:none;\">\n",
              "        \n",
              "  <svg xmlns=\"http://www.w3.org/2000/svg\" height=\"24px\"viewBox=\"0 0 24 24\"\n",
              "       width=\"24px\">\n",
              "    <path d=\"M0 0h24v24H0V0z\" fill=\"none\"/>\n",
              "    <path d=\"M18.56 5.44l.94 2.06.94-2.06 2.06-.94-2.06-.94-.94-2.06-.94 2.06-2.06.94zm-11 1L8.5 8.5l.94-2.06 2.06-.94-2.06-.94L8.5 2.5l-.94 2.06-2.06.94zm10 10l.94 2.06.94-2.06 2.06-.94-2.06-.94-.94-2.06-.94 2.06-2.06.94z\"/><path d=\"M17.41 7.96l-1.37-1.37c-.4-.4-.92-.59-1.43-.59-.52 0-1.04.2-1.43.59L10.3 9.45l-7.72 7.72c-.78.78-.78 2.05 0 2.83L4 21.41c.39.39.9.59 1.41.59.51 0 1.02-.2 1.41-.59l7.78-7.78 2.81-2.81c.8-.78.8-2.07 0-2.86zM5.41 20L4 18.59l7.72-7.72 1.47 1.35L5.41 20z\"/>\n",
              "  </svg>\n",
              "      </button>\n",
              "      \n",
              "  <style>\n",
              "    .colab-df-container {\n",
              "      display:flex;\n",
              "      flex-wrap:wrap;\n",
              "      gap: 12px;\n",
              "    }\n",
              "\n",
              "    .colab-df-convert {\n",
              "      background-color: #E8F0FE;\n",
              "      border: none;\n",
              "      border-radius: 50%;\n",
              "      cursor: pointer;\n",
              "      display: none;\n",
              "      fill: #1967D2;\n",
              "      height: 32px;\n",
              "      padding: 0 0 0 0;\n",
              "      width: 32px;\n",
              "    }\n",
              "\n",
              "    .colab-df-convert:hover {\n",
              "      background-color: #E2EBFA;\n",
              "      box-shadow: 0px 1px 2px rgba(60, 64, 67, 0.3), 0px 1px 3px 1px rgba(60, 64, 67, 0.15);\n",
              "      fill: #174EA6;\n",
              "    }\n",
              "\n",
              "    [theme=dark] .colab-df-convert {\n",
              "      background-color: #3B4455;\n",
              "      fill: #D2E3FC;\n",
              "    }\n",
              "\n",
              "    [theme=dark] .colab-df-convert:hover {\n",
              "      background-color: #434B5C;\n",
              "      box-shadow: 0px 1px 3px 1px rgba(0, 0, 0, 0.15);\n",
              "      filter: drop-shadow(0px 1px 2px rgba(0, 0, 0, 0.3));\n",
              "      fill: #FFFFFF;\n",
              "    }\n",
              "  </style>\n",
              "\n",
              "      <script>\n",
              "        const buttonEl =\n",
              "          document.querySelector('#df-1de2fdd8-76ae-4afb-9185-587ed0c394db button.colab-df-convert');\n",
              "        buttonEl.style.display =\n",
              "          google.colab.kernel.accessAllowed ? 'block' : 'none';\n",
              "\n",
              "        async function convertToInteractive(key) {\n",
              "          const element = document.querySelector('#df-1de2fdd8-76ae-4afb-9185-587ed0c394db');\n",
              "          const dataTable =\n",
              "            await google.colab.kernel.invokeFunction('convertToInteractive',\n",
              "                                                     [key], {});\n",
              "          if (!dataTable) return;\n",
              "\n",
              "          const docLinkHtml = 'Like what you see? Visit the ' +\n",
              "            '<a target=\"_blank\" href=https://colab.research.google.com/notebooks/data_table.ipynb>data table notebook</a>'\n",
              "            + ' to learn more about interactive tables.';\n",
              "          element.innerHTML = '';\n",
              "          dataTable['output_type'] = 'display_data';\n",
              "          await google.colab.output.renderOutput(dataTable, element);\n",
              "          const docLink = document.createElement('div');\n",
              "          docLink.innerHTML = docLinkHtml;\n",
              "          element.appendChild(docLink);\n",
              "        }\n",
              "      </script>\n",
              "    </div>\n",
              "  </div>\n",
              "  "
            ]
          },
          "metadata": {},
          "execution_count": 34
        }
      ]
    },
    {
      "cell_type": "code",
      "source": [
        "data = pd.concat([test_df,train_df],axis=0,ignore_index=True)"
      ],
      "metadata": {
        "id": "RruxdsaQiYx6"
      },
      "execution_count": 35,
      "outputs": []
    },
    {
      "cell_type": "code",
      "source": [
        "data.head()"
      ],
      "metadata": {
        "colab": {
          "base_uri": "https://localhost:8080/",
          "height": 297
        },
        "id": "CisrDZi5idbM",
        "outputId": "806bd640-db8c-46d6-cfdc-8f1a5091bfc8"
      },
      "execution_count": 36,
      "outputs": [
        {
          "output_type": "execute_result",
          "data": {
            "text/plain": [
              "   label  pixel1  pixel2  pixel3  pixel4  pixel5  pixel6  pixel7  pixel8  \\\n",
              "0      0       0       0       0       0       0       0       0       9   \n",
              "1      1       0       0       0       0       0       0       0       0   \n",
              "2      2       0       0       0       0       0       0      14      53   \n",
              "3      2       0       0       0       0       0       0       0       0   \n",
              "4      3       0       0       0       0       0       0       0       0   \n",
              "\n",
              "   pixel9  ...  pixel775  pixel776  pixel777  pixel778  pixel779  pixel780  \\\n",
              "0       8  ...       103        87        56         0         0         0   \n",
              "1       0  ...        34         0         0         0         0         0   \n",
              "2      99  ...         0         0         0         0        63        53   \n",
              "3       0  ...       137       126       140         0       133       224   \n",
              "4       0  ...         0         0         0         0         0         0   \n",
              "\n",
              "   pixel781  pixel782  pixel783  pixel784  \n",
              "0         0         0         0         0  \n",
              "1         0         0         0         0  \n",
              "2        31         0         0         0  \n",
              "3       222        56         0         0  \n",
              "4         0         0         0         0  \n",
              "\n",
              "[5 rows x 785 columns]"
            ],
            "text/html": [
              "\n",
              "  <div id=\"df-d45f4ea4-d12d-4798-a5a7-1b8b2e1724c1\">\n",
              "    <div class=\"colab-df-container\">\n",
              "      <div>\n",
              "<style scoped>\n",
              "    .dataframe tbody tr th:only-of-type {\n",
              "        vertical-align: middle;\n",
              "    }\n",
              "\n",
              "    .dataframe tbody tr th {\n",
              "        vertical-align: top;\n",
              "    }\n",
              "\n",
              "    .dataframe thead th {\n",
              "        text-align: right;\n",
              "    }\n",
              "</style>\n",
              "<table border=\"1\" class=\"dataframe\">\n",
              "  <thead>\n",
              "    <tr style=\"text-align: right;\">\n",
              "      <th></th>\n",
              "      <th>label</th>\n",
              "      <th>pixel1</th>\n",
              "      <th>pixel2</th>\n",
              "      <th>pixel3</th>\n",
              "      <th>pixel4</th>\n",
              "      <th>pixel5</th>\n",
              "      <th>pixel6</th>\n",
              "      <th>pixel7</th>\n",
              "      <th>pixel8</th>\n",
              "      <th>pixel9</th>\n",
              "      <th>...</th>\n",
              "      <th>pixel775</th>\n",
              "      <th>pixel776</th>\n",
              "      <th>pixel777</th>\n",
              "      <th>pixel778</th>\n",
              "      <th>pixel779</th>\n",
              "      <th>pixel780</th>\n",
              "      <th>pixel781</th>\n",
              "      <th>pixel782</th>\n",
              "      <th>pixel783</th>\n",
              "      <th>pixel784</th>\n",
              "    </tr>\n",
              "  </thead>\n",
              "  <tbody>\n",
              "    <tr>\n",
              "      <th>0</th>\n",
              "      <td>0</td>\n",
              "      <td>0</td>\n",
              "      <td>0</td>\n",
              "      <td>0</td>\n",
              "      <td>0</td>\n",
              "      <td>0</td>\n",
              "      <td>0</td>\n",
              "      <td>0</td>\n",
              "      <td>9</td>\n",
              "      <td>8</td>\n",
              "      <td>...</td>\n",
              "      <td>103</td>\n",
              "      <td>87</td>\n",
              "      <td>56</td>\n",
              "      <td>0</td>\n",
              "      <td>0</td>\n",
              "      <td>0</td>\n",
              "      <td>0</td>\n",
              "      <td>0</td>\n",
              "      <td>0</td>\n",
              "      <td>0</td>\n",
              "    </tr>\n",
              "    <tr>\n",
              "      <th>1</th>\n",
              "      <td>1</td>\n",
              "      <td>0</td>\n",
              "      <td>0</td>\n",
              "      <td>0</td>\n",
              "      <td>0</td>\n",
              "      <td>0</td>\n",
              "      <td>0</td>\n",
              "      <td>0</td>\n",
              "      <td>0</td>\n",
              "      <td>0</td>\n",
              "      <td>...</td>\n",
              "      <td>34</td>\n",
              "      <td>0</td>\n",
              "      <td>0</td>\n",
              "      <td>0</td>\n",
              "      <td>0</td>\n",
              "      <td>0</td>\n",
              "      <td>0</td>\n",
              "      <td>0</td>\n",
              "      <td>0</td>\n",
              "      <td>0</td>\n",
              "    </tr>\n",
              "    <tr>\n",
              "      <th>2</th>\n",
              "      <td>2</td>\n",
              "      <td>0</td>\n",
              "      <td>0</td>\n",
              "      <td>0</td>\n",
              "      <td>0</td>\n",
              "      <td>0</td>\n",
              "      <td>0</td>\n",
              "      <td>14</td>\n",
              "      <td>53</td>\n",
              "      <td>99</td>\n",
              "      <td>...</td>\n",
              "      <td>0</td>\n",
              "      <td>0</td>\n",
              "      <td>0</td>\n",
              "      <td>0</td>\n",
              "      <td>63</td>\n",
              "      <td>53</td>\n",
              "      <td>31</td>\n",
              "      <td>0</td>\n",
              "      <td>0</td>\n",
              "      <td>0</td>\n",
              "    </tr>\n",
              "    <tr>\n",
              "      <th>3</th>\n",
              "      <td>2</td>\n",
              "      <td>0</td>\n",
              "      <td>0</td>\n",
              "      <td>0</td>\n",
              "      <td>0</td>\n",
              "      <td>0</td>\n",
              "      <td>0</td>\n",
              "      <td>0</td>\n",
              "      <td>0</td>\n",
              "      <td>0</td>\n",
              "      <td>...</td>\n",
              "      <td>137</td>\n",
              "      <td>126</td>\n",
              "      <td>140</td>\n",
              "      <td>0</td>\n",
              "      <td>133</td>\n",
              "      <td>224</td>\n",
              "      <td>222</td>\n",
              "      <td>56</td>\n",
              "      <td>0</td>\n",
              "      <td>0</td>\n",
              "    </tr>\n",
              "    <tr>\n",
              "      <th>4</th>\n",
              "      <td>3</td>\n",
              "      <td>0</td>\n",
              "      <td>0</td>\n",
              "      <td>0</td>\n",
              "      <td>0</td>\n",
              "      <td>0</td>\n",
              "      <td>0</td>\n",
              "      <td>0</td>\n",
              "      <td>0</td>\n",
              "      <td>0</td>\n",
              "      <td>...</td>\n",
              "      <td>0</td>\n",
              "      <td>0</td>\n",
              "      <td>0</td>\n",
              "      <td>0</td>\n",
              "      <td>0</td>\n",
              "      <td>0</td>\n",
              "      <td>0</td>\n",
              "      <td>0</td>\n",
              "      <td>0</td>\n",
              "      <td>0</td>\n",
              "    </tr>\n",
              "  </tbody>\n",
              "</table>\n",
              "<p>5 rows × 785 columns</p>\n",
              "</div>\n",
              "      <button class=\"colab-df-convert\" onclick=\"convertToInteractive('df-d45f4ea4-d12d-4798-a5a7-1b8b2e1724c1')\"\n",
              "              title=\"Convert this dataframe to an interactive table.\"\n",
              "              style=\"display:none;\">\n",
              "        \n",
              "  <svg xmlns=\"http://www.w3.org/2000/svg\" height=\"24px\"viewBox=\"0 0 24 24\"\n",
              "       width=\"24px\">\n",
              "    <path d=\"M0 0h24v24H0V0z\" fill=\"none\"/>\n",
              "    <path d=\"M18.56 5.44l.94 2.06.94-2.06 2.06-.94-2.06-.94-.94-2.06-.94 2.06-2.06.94zm-11 1L8.5 8.5l.94-2.06 2.06-.94-2.06-.94L8.5 2.5l-.94 2.06-2.06.94zm10 10l.94 2.06.94-2.06 2.06-.94-2.06-.94-.94-2.06-.94 2.06-2.06.94z\"/><path d=\"M17.41 7.96l-1.37-1.37c-.4-.4-.92-.59-1.43-.59-.52 0-1.04.2-1.43.59L10.3 9.45l-7.72 7.72c-.78.78-.78 2.05 0 2.83L4 21.41c.39.39.9.59 1.41.59.51 0 1.02-.2 1.41-.59l7.78-7.78 2.81-2.81c.8-.78.8-2.07 0-2.86zM5.41 20L4 18.59l7.72-7.72 1.47 1.35L5.41 20z\"/>\n",
              "  </svg>\n",
              "      </button>\n",
              "      \n",
              "  <style>\n",
              "    .colab-df-container {\n",
              "      display:flex;\n",
              "      flex-wrap:wrap;\n",
              "      gap: 12px;\n",
              "    }\n",
              "\n",
              "    .colab-df-convert {\n",
              "      background-color: #E8F0FE;\n",
              "      border: none;\n",
              "      border-radius: 50%;\n",
              "      cursor: pointer;\n",
              "      display: none;\n",
              "      fill: #1967D2;\n",
              "      height: 32px;\n",
              "      padding: 0 0 0 0;\n",
              "      width: 32px;\n",
              "    }\n",
              "\n",
              "    .colab-df-convert:hover {\n",
              "      background-color: #E2EBFA;\n",
              "      box-shadow: 0px 1px 2px rgba(60, 64, 67, 0.3), 0px 1px 3px 1px rgba(60, 64, 67, 0.15);\n",
              "      fill: #174EA6;\n",
              "    }\n",
              "\n",
              "    [theme=dark] .colab-df-convert {\n",
              "      background-color: #3B4455;\n",
              "      fill: #D2E3FC;\n",
              "    }\n",
              "\n",
              "    [theme=dark] .colab-df-convert:hover {\n",
              "      background-color: #434B5C;\n",
              "      box-shadow: 0px 1px 3px 1px rgba(0, 0, 0, 0.15);\n",
              "      filter: drop-shadow(0px 1px 2px rgba(0, 0, 0, 0.3));\n",
              "      fill: #FFFFFF;\n",
              "    }\n",
              "  </style>\n",
              "\n",
              "      <script>\n",
              "        const buttonEl =\n",
              "          document.querySelector('#df-d45f4ea4-d12d-4798-a5a7-1b8b2e1724c1 button.colab-df-convert');\n",
              "        buttonEl.style.display =\n",
              "          google.colab.kernel.accessAllowed ? 'block' : 'none';\n",
              "\n",
              "        async function convertToInteractive(key) {\n",
              "          const element = document.querySelector('#df-d45f4ea4-d12d-4798-a5a7-1b8b2e1724c1');\n",
              "          const dataTable =\n",
              "            await google.colab.kernel.invokeFunction('convertToInteractive',\n",
              "                                                     [key], {});\n",
              "          if (!dataTable) return;\n",
              "\n",
              "          const docLinkHtml = 'Like what you see? Visit the ' +\n",
              "            '<a target=\"_blank\" href=https://colab.research.google.com/notebooks/data_table.ipynb>data table notebook</a>'\n",
              "            + ' to learn more about interactive tables.';\n",
              "          element.innerHTML = '';\n",
              "          dataTable['output_type'] = 'display_data';\n",
              "          await google.colab.output.renderOutput(dataTable, element);\n",
              "          const docLink = document.createElement('div');\n",
              "          docLink.innerHTML = docLinkHtml;\n",
              "          element.appendChild(docLink);\n",
              "        }\n",
              "      </script>\n",
              "    </div>\n",
              "  </div>\n",
              "  "
            ]
          },
          "metadata": {},
          "execution_count": 36
        }
      ]
    },
    {
      "cell_type": "code",
      "source": [
        "data.shape"
      ],
      "metadata": {
        "colab": {
          "base_uri": "https://localhost:8080/"
        },
        "id": "JHt1wIMfigJg",
        "outputId": "34a389ac-626e-4f6c-ac8b-05e808614359"
      },
      "execution_count": 37,
      "outputs": [
        {
          "output_type": "execute_result",
          "data": {
            "text/plain": [
              "(70000, 785)"
            ]
          },
          "metadata": {},
          "execution_count": 37
        }
      ]
    },
    {
      "cell_type": "code",
      "source": [
        "data[\"label\"].value_counts()"
      ],
      "metadata": {
        "colab": {
          "base_uri": "https://localhost:8080/"
        },
        "id": "AOL_9oAMinkJ",
        "outputId": "8ade84b0-5e61-408a-b0d6-f2e44916d36c"
      },
      "execution_count": 38,
      "outputs": [
        {
          "output_type": "execute_result",
          "data": {
            "text/plain": [
              "0    7000\n",
              "1    7000\n",
              "2    7000\n",
              "3    7000\n",
              "8    7000\n",
              "6    7000\n",
              "5    7000\n",
              "4    7000\n",
              "7    7000\n",
              "9    7000\n",
              "Name: label, dtype: int64"
            ]
          },
          "metadata": {},
          "execution_count": 38
        }
      ]
    },
    {
      "cell_type": "code",
      "source": [
        "label = pd.DataFrame(data[\"label\"].value_counts(),columns=[\"label\"])"
      ],
      "metadata": {
        "id": "8uftxshEirvm"
      },
      "execution_count": 39,
      "outputs": []
    },
    {
      "cell_type": "code",
      "source": [
        "X_train = data.drop(\"label\",axis=1)"
      ],
      "metadata": {
        "id": "_D7hWpMRiu8R"
      },
      "execution_count": 40,
      "outputs": []
    },
    {
      "cell_type": "code",
      "source": [
        "Y_train = data[\"label\"]"
      ],
      "metadata": {
        "id": "v41fdpJIixpq"
      },
      "execution_count": 41,
      "outputs": []
    },
    {
      "cell_type": "code",
      "source": [
        "img = X_train.iloc[0].values\n",
        "img = img.reshape(28,28)\n",
        "plt.imshow(img,cmap=\"gray\")\n",
        "plt.axis(\"off\")\n",
        "plt.show()"
      ],
      "metadata": {
        "colab": {
          "base_uri": "https://localhost:8080/",
          "height": 248
        },
        "id": "Aq-ZMXwji1yb",
        "outputId": "89fac145-47c8-4c3e-b055-0c69d7976a7c"
      },
      "execution_count": 42,
      "outputs": [
        {
          "output_type": "display_data",
          "data": {
            "text/plain": [
              "<Figure size 432x288 with 1 Axes>"
            ],
            "image/png": "[encoded data removed]"
          },
          "metadata": {
            "needs_background": "light"
          }
        }
      ]
    },
    {
      "cell_type": "code",
      "source": [
        "names = [\"T-shirt\",\"Trouser\",\"Pullover\",\"Dress\",\"Coat\",\"Sandal\",\"Shirt\",\"Sneaker\",\"Bag\",\"Ankle boot\"]\n",
        "plt.figure(figsize=(10,10))\n",
        "for i in range(25):\n",
        "    plt.subplot(5,5,i+1)\n",
        "    plt.imshow(X_train.iloc[i].values.reshape((28,28)),cmap=\"gray\")\n",
        "    index = int(Y_train[i])\n",
        "    plt.axis(\"off\")\n",
        "    plt.title(names[index])\n",
        "plt.show() "
      ],
      "metadata": {
        "colab": {
          "base_uri": "https://localhost:8080/",
          "height": 591
        },
        "id": "UzFq0SSAi517",
        "outputId": "c5f406bb-c9f8-4c7d-b26a-521e8d33e1a8"
      },
      "execution_count": 43,
      "outputs": [
        {
          "output_type": "display_data",
          "data": {
            "text/plain": [
              "<Figure size 720x720 with 25 Axes>"
            ],
            "image/png": "[encoded data removed]"
          },
          "metadata": {
            "needs_background": "light"
          }
        }
      ]
    },
    {
      "cell_type": "code",
      "source": [
        "# Escalar datos entre 0 y 1\n",
        "X_train = X_train / 255.0\n",
        "X_test = X_test / 255.0\n"
      ],
      "metadata": {
        "id": "TVE2ULJMdUfo"
      },
      "execution_count": 45,
      "outputs": []
    },
    {
      "cell_type": "code",
      "source": [
        "X_train = X_train.values.reshape(-1,28,28,1)\n",
        "print(X_train.shape)"
      ],
      "metadata": {
        "colab": {
          "base_uri": "https://localhost:8080/"
        },
        "id": "HNVDK_LnjDyI",
        "outputId": "50618915-92ee-449a-9b97-4d799297550d"
      },
      "execution_count": 46,
      "outputs": [
        {
          "output_type": "stream",
          "name": "stdout",
          "text": [
            "(70000, 28, 28, 1)\n"
          ]
        }
      ]
    },
    {
      "cell_type": "code",
      "source": [
        "Y_train =Y_train.values.reshape(-1,1)"
      ],
      "metadata": {
        "id": "jPcTxDrNjHlV"
      },
      "execution_count": 47,
      "outputs": []
    },
    {
      "cell_type": "code",
      "source": [
        "from keras.utils.np_utils import to_categorical\n",
        "Y_train = to_categorical(Y_train,num_classes=10)"
      ],
      "metadata": {
        "id": "XP04HjrpjLRp"
      },
      "execution_count": 48,
      "outputs": []
    },
    {
      "cell_type": "code",
      "source": [
        "x_train,x_test,y_train,y_test = train_test_split(X_train,\n",
        "                                                 Y_train,\n",
        "                                                 test_size=0.2,\n",
        "                                                 random_state=11)"
      ],
      "metadata": {
        "id": "YwYrZgDWjOu5"
      },
      "execution_count": 49,
      "outputs": []
    },
    {
      "cell_type": "code",
      "source": [
        "print(\"x_train shape:{}\\nx_test shape:{}\".format(x_train.shape,x_test.shape))\n",
        "print(\"y_train shape:{}\\ny_test shape:{}\".format(y_train.shape,y_test.shape))"
      ],
      "metadata": {
        "colab": {
          "base_uri": "https://localhost:8080/"
        },
        "id": "-XxDFkZ8er8H",
        "outputId": "c1f67ab1-2288-4215-dcbb-e06714d83540"
      },
      "execution_count": 50,
      "outputs": [
        {
          "output_type": "stream",
          "name": "stdout",
          "text": [
            "x_train shape:(56000, 28, 28, 1)\n",
            "x_test shape:(14000, 28, 28, 1)\n",
            "y_train shape:(56000, 10)\n",
            "y_test shape:(14000, 10)\n"
          ]
        }
      ]
    },
    {
      "cell_type": "code",
      "source": [
        "# Paso 1: Definir nuestra estructura de red\n",
        "# Guardar la forma de entrada\n",
        "input_shape = X_train.shape[1:4]\n",
        "input_shape"
      ],
      "metadata": {
        "colab": {
          "base_uri": "https://localhost:8080/"
        },
        "id": "Z4Q_xp5NjYDG",
        "outputId": "a4c17edb-1f6d-483c-c934-476bc6d2718d"
      },
      "execution_count": 51,
      "outputs": [
        {
          "output_type": "execute_result",
          "data": {
            "text/plain": [
              "(28, 28, 1)"
            ]
          },
          "metadata": {},
          "execution_count": 51
        }
      ]
    },
    {
      "cell_type": "code",
      "source": [
        "# Modelo secuencial\n",
        "model = Sequential()"
      ],
      "metadata": {
        "id": "6vpku1aijeJ5"
      },
      "execution_count": 52,
      "outputs": []
    },
    {
      "cell_type": "code",
      "source": [
        "# Capa convolucional\n",
        "model.add(Conv2D(filters = 8, # Cuantos filtros quieres usar\n",
        "                 kernel_size = 3, # tamaño de cada filtro\n",
        "                 input_shape = input_shape)) # ¿Cuál es la forma de tus características de entrada (definimos esto arriba)\n",
        "# Pooling layer\n",
        "model.add(MaxPooling2D(pool_size = 2)) # Tamaño de pooling\n",
        "# Capa de aplanamiento\n",
        "model.add(Flatten())\n",
        "# Capa de salida\n",
        "model.add(Dense(10, # Cuantas posibilidades de salida tenemos\n",
        "                activation = 'softmax')) # ¿Qué función de activación estás usando?"
      ],
      "metadata": {
        "id": "J87gi4y5jhG_"
      },
      "execution_count": 53,
      "outputs": []
    },
    {
      "cell_type": "code",
      "source": [
        "# Paso 2: compilar\n",
        "model.compile(loss = 'categorical_crossentropy', optimizer = 'adam', metrics = ['acc'])\n"
      ],
      "metadata": {
        "id": "8HTqHMXUjlFs"
      },
      "execution_count": 54,
      "outputs": []
    },
    {
      "cell_type": "code",
      "source": [
        "# Paso 3: ajustar nuestro modelo\n",
        "history= model.fit(x_train,\n",
        "                   y_train,\n",
        "                   validation_data=(x_test,y_test),\n",
        "                   epochs=50)"
      ],
      "metadata": {
        "colab": {
          "base_uri": "https://localhost:8080/"
        },
        "id": "MOfTWmaBj96f",
        "outputId": "0486b0dc-78aa-4ea7-8d45-ec871f47cd44"
      },
      "execution_count": 64,
      "outputs": [
        {
          "output_type": "stream",
          "name": "stdout",
          "text": [
            "Epoch 1/50\n",
            "1750/1750 [==============================] - 18s 10ms/step - loss: 0.3842 - acc: 0.8673 - val_loss: 0.4037 - val_acc: 0.8594\n",
            "Epoch 2/50\n",
            "1750/1750 [==============================] - 21s 12ms/step - loss: 0.3834 - acc: 0.8669 - val_loss: 0.3982 - val_acc: 0.8601\n",
            "Epoch 3/50\n",
            "1750/1750 [==============================] - 15s 8ms/step - loss: 0.3816 - acc: 0.8683 - val_loss: 0.3995 - val_acc: 0.8608\n",
            "Epoch 4/50\n",
            "1750/1750 [==============================] - 15s 9ms/step - loss: 0.3804 - acc: 0.8673 - val_loss: 0.4010 - val_acc: 0.8585\n",
            "Epoch 5/50\n",
            "1750/1750 [==============================] - 17s 9ms/step - loss: 0.3789 - acc: 0.8687 - val_loss: 0.3922 - val_acc: 0.8635\n",
            "Epoch 6/50\n",
            "1750/1750 [==============================] - 16s 9ms/step - loss: 0.3776 - acc: 0.8691 - val_loss: 0.3927 - val_acc: 0.8635\n",
            "Epoch 7/50\n",
            "1750/1750 [==============================] - 15s 9ms/step - loss: 0.3766 - acc: 0.8699 - val_loss: 0.3937 - val_acc: 0.8630\n",
            "Epoch 8/50\n",
            "1750/1750 [==============================] - 16s 9ms/step - loss: 0.3751 - acc: 0.8712 - val_loss: 0.3916 - val_acc: 0.8620\n",
            "Epoch 9/50\n",
            "1750/1750 [==============================] - 15s 9ms/step - loss: 0.3739 - acc: 0.8711 - val_loss: 0.3925 - val_acc: 0.8631\n",
            "Epoch 10/50\n",
            "1750/1750 [==============================] - 22s 13ms/step - loss: 0.3725 - acc: 0.8713 - val_loss: 0.3961 - val_acc: 0.8606\n",
            "Epoch 11/50\n",
            "1750/1750 [==============================] - 19s 11ms/step - loss: 0.3710 - acc: 0.8717 - val_loss: 0.3884 - val_acc: 0.8647\n",
            "Epoch 12/50\n",
            "1750/1750 [==============================] - 20s 11ms/step - loss: 0.3697 - acc: 0.8706 - val_loss: 0.3863 - val_acc: 0.8652\n",
            "Epoch 13/50\n",
            "1750/1750 [==============================] - 15s 8ms/step - loss: 0.3692 - acc: 0.8727 - val_loss: 0.3894 - val_acc: 0.8642\n",
            "Epoch 14/50\n",
            "1750/1750 [==============================] - 16s 9ms/step - loss: 0.3674 - acc: 0.8726 - val_loss: 0.3840 - val_acc: 0.8656\n",
            "Epoch 15/50\n",
            "1750/1750 [==============================] - 15s 9ms/step - loss: 0.3661 - acc: 0.8738 - val_loss: 0.3839 - val_acc: 0.8655\n",
            "Epoch 16/50\n",
            "1750/1750 [==============================] - 15s 9ms/step - loss: 0.3649 - acc: 0.8735 - val_loss: 0.3813 - val_acc: 0.8667\n",
            "Epoch 17/50\n",
            "1750/1750 [==============================] - 16s 9ms/step - loss: 0.3629 - acc: 0.8742 - val_loss: 0.3858 - val_acc: 0.8641\n",
            "Epoch 18/50\n",
            "1750/1750 [==============================] - 16s 9ms/step - loss: 0.3629 - acc: 0.8744 - val_loss: 0.3836 - val_acc: 0.8652\n",
            "Epoch 19/50\n",
            "1750/1750 [==============================] - 16s 9ms/step - loss: 0.3611 - acc: 0.8754 - val_loss: 0.3789 - val_acc: 0.8681\n",
            "Epoch 20/50\n",
            "1750/1750 [==============================] - 15s 8ms/step - loss: 0.3600 - acc: 0.8748 - val_loss: 0.3828 - val_acc: 0.8659\n",
            "Epoch 21/50\n",
            "1750/1750 [==============================] - 16s 9ms/step - loss: 0.3591 - acc: 0.8763 - val_loss: 0.3784 - val_acc: 0.8674\n",
            "Epoch 22/50\n",
            "1750/1750 [==============================] - 16s 9ms/step - loss: 0.3581 - acc: 0.8759 - val_loss: 0.3768 - val_acc: 0.8684\n",
            "Epoch 23/50\n",
            "1750/1750 [==============================] - 15s 9ms/step - loss: 0.3566 - acc: 0.8767 - val_loss: 0.3802 - val_acc: 0.8689\n",
            "Epoch 24/50\n",
            "1750/1750 [==============================] - 15s 9ms/step - loss: 0.3556 - acc: 0.8767 - val_loss: 0.3749 - val_acc: 0.8702\n",
            "Epoch 25/50\n",
            "1750/1750 [==============================] - 16s 9ms/step - loss: 0.3544 - acc: 0.8778 - val_loss: 0.3747 - val_acc: 0.8701\n",
            "Epoch 26/50\n",
            "1750/1750 [==============================] - 16s 9ms/step - loss: 0.3535 - acc: 0.8783 - val_loss: 0.3744 - val_acc: 0.8704\n",
            "Epoch 27/50\n",
            "1750/1750 [==============================] - 16s 9ms/step - loss: 0.3523 - acc: 0.8788 - val_loss: 0.3770 - val_acc: 0.8679\n",
            "Epoch 28/50\n",
            "1750/1750 [==============================] - 15s 8ms/step - loss: 0.3517 - acc: 0.8787 - val_loss: 0.3709 - val_acc: 0.8710\n",
            "Epoch 29/50\n",
            "1750/1750 [==============================] - 16s 9ms/step - loss: 0.3503 - acc: 0.8793 - val_loss: 0.3706 - val_acc: 0.8710\n",
            "Epoch 30/50\n",
            "1750/1750 [==============================] - 15s 9ms/step - loss: 0.3488 - acc: 0.8799 - val_loss: 0.3721 - val_acc: 0.8705\n",
            "Epoch 31/50\n",
            "1750/1750 [==============================] - 15s 9ms/step - loss: 0.3487 - acc: 0.8796 - val_loss: 0.3694 - val_acc: 0.8709\n",
            "Epoch 32/50\n",
            "1750/1750 [==============================] - 16s 9ms/step - loss: 0.3472 - acc: 0.8798 - val_loss: 0.3678 - val_acc: 0.8725\n",
            "Epoch 33/50\n",
            "1750/1750 [==============================] - 15s 9ms/step - loss: 0.3460 - acc: 0.8802 - val_loss: 0.3670 - val_acc: 0.8724\n",
            "Epoch 34/50\n",
            "1750/1750 [==============================] - 15s 9ms/step - loss: 0.3453 - acc: 0.8802 - val_loss: 0.3746 - val_acc: 0.8689\n",
            "Epoch 35/50\n",
            "1750/1750 [==============================] - 15s 9ms/step - loss: 0.3447 - acc: 0.8811 - val_loss: 0.3649 - val_acc: 0.8738\n",
            "Epoch 36/50\n",
            "1750/1750 [==============================] - 15s 9ms/step - loss: 0.3432 - acc: 0.8816 - val_loss: 0.3662 - val_acc: 0.8726\n",
            "Epoch 37/50\n",
            "1750/1750 [==============================] - 16s 9ms/step - loss: 0.3422 - acc: 0.8819 - val_loss: 0.3655 - val_acc: 0.8736\n",
            "Epoch 38/50\n",
            "1750/1750 [==============================] - 16s 9ms/step - loss: 0.3412 - acc: 0.8823 - val_loss: 0.3670 - val_acc: 0.8726\n",
            "Epoch 39/50\n",
            "1750/1750 [==============================] - 16s 9ms/step - loss: 0.3401 - acc: 0.8828 - val_loss: 0.3638 - val_acc: 0.8729\n",
            "Epoch 40/50\n",
            "1750/1750 [==============================] - 16s 9ms/step - loss: 0.3401 - acc: 0.8827 - val_loss: 0.3635 - val_acc: 0.8742\n",
            "Epoch 41/50\n",
            "1750/1750 [==============================] - 16s 9ms/step - loss: 0.3384 - acc: 0.8838 - val_loss: 0.3700 - val_acc: 0.8712\n",
            "Epoch 42/50\n",
            "1750/1750 [==============================] - 16s 9ms/step - loss: 0.3382 - acc: 0.8841 - val_loss: 0.3627 - val_acc: 0.8750\n",
            "Epoch 43/50\n",
            "1750/1750 [==============================] - 15s 9ms/step - loss: 0.3364 - acc: 0.8842 - val_loss: 0.3624 - val_acc: 0.8740\n",
            "Epoch 44/50\n",
            "1750/1750 [==============================] - 17s 9ms/step - loss: 0.3357 - acc: 0.8840 - val_loss: 0.3620 - val_acc: 0.8752\n",
            "Epoch 45/50\n",
            "1750/1750 [==============================] - 16s 9ms/step - loss: 0.3358 - acc: 0.8848 - val_loss: 0.3621 - val_acc: 0.8752\n",
            "Epoch 46/50\n",
            "1750/1750 [==============================] - 15s 9ms/step - loss: 0.3345 - acc: 0.8841 - val_loss: 0.3588 - val_acc: 0.8763\n",
            "Epoch 47/50\n",
            "1750/1750 [==============================] - 15s 9ms/step - loss: 0.3335 - acc: 0.8845 - val_loss: 0.3596 - val_acc: 0.8757\n",
            "Epoch 48/50\n",
            "1750/1750 [==============================] - 16s 9ms/step - loss: 0.3329 - acc: 0.8846 - val_loss: 0.3595 - val_acc: 0.8761\n",
            "Epoch 49/50\n",
            "1750/1750 [==============================] - 15s 9ms/step - loss: 0.3323 - acc: 0.8853 - val_loss: 0.3594 - val_acc: 0.8741\n",
            "Epoch 50/50\n",
            "1750/1750 [==============================] - 15s 9ms/step - loss: 0.3310 - acc: 0.8855 - val_loss: 0.3587 - val_acc: 0.8769\n"
          ]
        }
      ]
    },
    {
      "cell_type": "code",
      "source": [
        "# Visualizar la pérdida\n",
        "plt.plot(history.history['loss'], label='Train loss')\n",
        "plt.plot(history.history['val_loss'], label='Test Loss')\n",
        "plt.legend();"
      ],
      "metadata": {
        "colab": {
          "base_uri": "https://localhost:8080/",
          "height": 265
        },
        "id": "-xHRyBd1kJgX",
        "outputId": "1b26d4b6-6a03-4ff5-b7f7-992910ba7736"
      },
      "execution_count": 65,
      "outputs": [
        {
          "output_type": "display_data",
          "data": {
            "text/plain": [
              "<Figure size 432x288 with 1 Axes>"
            ],
            "image/png": "[encoded data removed]"
          },
          "metadata": {
            "needs_background": "light"
          }
        }
      ]
    },
    {
      "cell_type": "code",
      "source": [
        "# Visualizar la precisión\n",
        "plt.plot(history.history['acc'], label='Train Accuracy')\n",
        "plt.plot(history.history['val_acc'], label='Test Accuracy')\n",
        "plt.legend();\n"
      ],
      "metadata": {
        "colab": {
          "base_uri": "https://localhost:8080/",
          "height": 265
        },
        "id": "HH9kh27gkKGa",
        "outputId": "94709d9f-78eb-411a-9cfe-36592354d18f"
      },
      "execution_count": 66,
      "outputs": [
        {
          "output_type": "display_data",
          "data": {
            "text/plain": [
              "<Figure size 432x288 with 1 Axes>"
            ],
            "image/png": "[encoded data removed]"
          },
          "metadata": {
            "needs_background": "light"
          }
        }
      ]
    },
    {
      "cell_type": "code",
      "source": [
        "#podemos ver que con 50 epochs obtenemos una precision de casi el 88%."
      ],
      "metadata": {
        "id": "2e50Mq4fmQBI"
      },
      "execution_count": null,
      "outputs": []
    },
    {
      "cell_type": "code",
      "source": [
        "# Paso 3: ajustar nuestro modelo\n",
        "history= model.fit(x_train,\n",
        "                   y_train,\n",
        "                   validation_data=(x_test,y_test),\n",
        "                   epochs=20)"
      ],
      "metadata": {
        "colab": {
          "base_uri": "https://localhost:8080/"
        },
        "id": "hJ5IZ5afmceT",
        "outputId": "d20bdd1d-5de3-416e-e424-7cee8b56fbc5"
      },
      "execution_count": 61,
      "outputs": [
        {
          "output_type": "stream",
          "name": "stdout",
          "text": [
            "Epoch 1/20\n",
            "1750/1750 [==============================] - 61s 35ms/step - loss: 0.4200 - acc: 0.8539 - val_loss: 0.4260 - val_acc: 0.8495\n",
            "Epoch 2/20\n",
            "1750/1750 [==============================] - 14s 8ms/step - loss: 0.4157 - acc: 0.8563 - val_loss: 0.4298 - val_acc: 0.8449\n",
            "Epoch 3/20\n",
            "1750/1750 [==============================] - 14s 8ms/step - loss: 0.4132 - acc: 0.8566 - val_loss: 0.4282 - val_acc: 0.8499\n",
            "Epoch 4/20\n",
            "1750/1750 [==============================] - 14s 8ms/step - loss: 0.4106 - acc: 0.8579 - val_loss: 0.4209 - val_acc: 0.8516\n",
            "Epoch 5/20\n",
            "1750/1750 [==============================] - 14s 8ms/step - loss: 0.4090 - acc: 0.8581 - val_loss: 0.4203 - val_acc: 0.8525\n",
            "Epoch 6/20\n",
            "1750/1750 [==============================] - 14s 8ms/step - loss: 0.4075 - acc: 0.8588 - val_loss: 0.4181 - val_acc: 0.8545\n",
            "Epoch 7/20\n",
            "1750/1750 [==============================] - 14s 8ms/step - loss: 0.4056 - acc: 0.8600 - val_loss: 0.4173 - val_acc: 0.8551\n",
            "Epoch 8/20\n",
            "1750/1750 [==============================] - 14s 8ms/step - loss: 0.4041 - acc: 0.8599 - val_loss: 0.4152 - val_acc: 0.8544\n",
            "Epoch 9/20\n",
            "1750/1750 [==============================] - 14s 8ms/step - loss: 0.4022 - acc: 0.8598 - val_loss: 0.4156 - val_acc: 0.8544\n",
            "Epoch 10/20\n",
            "1750/1750 [==============================] - 14s 8ms/step - loss: 0.4007 - acc: 0.8611 - val_loss: 0.4149 - val_acc: 0.8566\n",
            "Epoch 11/20\n",
            "1750/1750 [==============================] - 14s 8ms/step - loss: 0.3990 - acc: 0.8619 - val_loss: 0.4129 - val_acc: 0.8577\n",
            "Epoch 12/20\n",
            "1750/1750 [==============================] - 14s 8ms/step - loss: 0.3978 - acc: 0.8629 - val_loss: 0.4093 - val_acc: 0.8568\n",
            "Epoch 13/20\n",
            "1750/1750 [==============================] - 14s 8ms/step - loss: 0.3960 - acc: 0.8622 - val_loss: 0.4100 - val_acc: 0.8566\n",
            "Epoch 14/20\n",
            "1750/1750 [==============================] - 14s 8ms/step - loss: 0.3949 - acc: 0.8630 - val_loss: 0.4069 - val_acc: 0.8575\n",
            "Epoch 15/20\n",
            "1750/1750 [==============================] - 14s 8ms/step - loss: 0.3929 - acc: 0.8637 - val_loss: 0.4093 - val_acc: 0.8571\n",
            "Epoch 16/20\n",
            "1750/1750 [==============================] - 14s 8ms/step - loss: 0.3919 - acc: 0.8644 - val_loss: 0.4051 - val_acc: 0.8580\n",
            "Epoch 17/20\n",
            "1750/1750 [==============================] - 14s 8ms/step - loss: 0.3901 - acc: 0.8652 - val_loss: 0.4042 - val_acc: 0.8594\n",
            "Epoch 18/20\n",
            "1750/1750 [==============================] - 14s 8ms/step - loss: 0.3889 - acc: 0.8659 - val_loss: 0.4005 - val_acc: 0.8607\n",
            "Epoch 19/20\n",
            "1750/1750 [==============================] - 14s 8ms/step - loss: 0.3872 - acc: 0.8672 - val_loss: 0.4032 - val_acc: 0.8579\n",
            "Epoch 20/20\n",
            "1750/1750 [==============================] - 14s 8ms/step - loss: 0.3859 - acc: 0.8661 - val_loss: 0.4020 - val_acc: 0.8612\n"
          ]
        }
      ]
    },
    {
      "cell_type": "code",
      "source": [
        "# Visualizar la pérdida\n",
        "plt.plot(history.history['loss'], label='Train loss')\n",
        "plt.plot(history.history['val_loss'], label='Test Loss')\n",
        "plt.legend();"
      ],
      "metadata": {
        "colab": {
          "base_uri": "https://localhost:8080/",
          "height": 265
        },
        "id": "OGhN_aUtmgFT",
        "outputId": "613791b6-9d6b-4ecd-fe51-e99440b64ec5"
      },
      "execution_count": 62,
      "outputs": [
        {
          "output_type": "display_data",
          "data": {
            "text/plain": [
              "<Figure size 432x288 with 1 Axes>"
            ],
            "image/png": "[encoded data removed]"
          },
          "metadata": {
            "needs_background": "light"
          }
        }
      ]
    },
    {
      "cell_type": "code",
      "source": [
        "# Visualizar la precisión\n",
        "plt.plot(history.history['acc'], label='Train Accuracy')\n",
        "plt.plot(history.history['val_acc'], label='Test Accuracy')\n",
        "plt.legend();\n"
      ],
      "metadata": {
        "colab": {
          "base_uri": "https://localhost:8080/",
          "height": 265
        },
        "id": "mBbvAEBhmhzS",
        "outputId": "cabd254d-a1c3-4f84-df9c-e2c1c8b0828d"
      },
      "execution_count": 63,
      "outputs": [
        {
          "output_type": "display_data",
          "data": {
            "text/plain": [
              "<Figure size 432x288 with 1 Axes>"
            ],
            "image/png": "[encoded data removed]"
          },
          "metadata": {
            "needs_background": "light"
          }
        }
      ]
    },
    {
      "cell_type": "code",
      "source": [
        "#Con 20 epochs alcanzamos el 86% de precisión en los datos de prueba"
      ],
      "metadata": {
        "id": "Y-vO76i5ooUV"
      },
      "execution_count": null,
      "outputs": []
    },
    {
      "cell_type": "code",
      "source": [
        "from keras import callbacks\n",
        "earlystopping = callbacks.EarlyStopping(monitor =\"val_loss\", \n",
        "                                        mode =\"min\", patience = 5, \n",
        "                                        restore_best_weights = True)\n",
        "  \n",
        "history= model.fit(x_train,\n",
        "                   y_train,\n",
        "                   validation_data=(x_test,y_test),\n",
        "                   epochs=30,\n",
        "                   callbacks =[earlystopping])"
      ],
      "metadata": {
        "colab": {
          "base_uri": "https://localhost:8080/"
        },
        "id": "RHd-P3NcpZpv",
        "outputId": "c56bbfd4-a6be-4d1c-d121-eed67e88abb9"
      },
      "execution_count": 67,
      "outputs": [
        {
          "output_type": "stream",
          "name": "stdout",
          "text": [
            "Epoch 1/30\n",
            "1750/1750 [==============================] - 18s 10ms/step - loss: 0.3305 - acc: 0.8859 - val_loss: 0.3565 - val_acc: 0.8767\n",
            "Epoch 2/30\n",
            "1750/1750 [==============================] - 16s 9ms/step - loss: 0.3295 - acc: 0.8868 - val_loss: 0.3554 - val_acc: 0.8777\n",
            "Epoch 3/30\n",
            "1750/1750 [==============================] - 16s 9ms/step - loss: 0.3286 - acc: 0.8862 - val_loss: 0.3553 - val_acc: 0.8766\n",
            "Epoch 4/30\n",
            "1750/1750 [==============================] - 15s 9ms/step - loss: 0.3279 - acc: 0.8867 - val_loss: 0.3533 - val_acc: 0.8783\n",
            "Epoch 5/30\n",
            "1750/1750 [==============================] - 16s 9ms/step - loss: 0.3274 - acc: 0.8866 - val_loss: 0.3553 - val_acc: 0.8776\n",
            "Epoch 6/30\n",
            "1750/1750 [==============================] - 16s 9ms/step - loss: 0.3265 - acc: 0.8874 - val_loss: 0.3517 - val_acc: 0.8780\n",
            "Epoch 7/30\n",
            "1750/1750 [==============================] - 16s 9ms/step - loss: 0.3260 - acc: 0.8867 - val_loss: 0.3571 - val_acc: 0.8749\n",
            "Epoch 8/30\n",
            "1750/1750 [==============================] - 16s 9ms/step - loss: 0.3251 - acc: 0.8873 - val_loss: 0.3592 - val_acc: 0.8749\n",
            "Epoch 9/30\n",
            "1750/1750 [==============================] - 16s 9ms/step - loss: 0.3242 - acc: 0.8880 - val_loss: 0.3554 - val_acc: 0.8773\n",
            "Epoch 10/30\n",
            "1750/1750 [==============================] - 16s 9ms/step - loss: 0.3238 - acc: 0.8881 - val_loss: 0.3518 - val_acc: 0.8774\n",
            "Epoch 11/30\n",
            "1750/1750 [==============================] - 15s 9ms/step - loss: 0.3229 - acc: 0.8874 - val_loss: 0.3568 - val_acc: 0.8768\n"
          ]
        }
      ]
    },
    {
      "cell_type": "markdown",
      "source": [
        "Se van a intentar con 11 epochs ya que después de eso se sobreajusta el modelo. \n",
        "Para esto se toma como referencia:\n",
        "https://www.geeksforgeeks.org/choose-optimal-number-of-epochs-to-train-a-neural-network-in-keras/"
      ],
      "metadata": {
        "id": "IbtmrF6-thv6"
      }
    },
    {
      "cell_type": "code",
      "source": [
        "# Paso 3: ajustar nuestro modelo\n",
        "history= model.fit(x_train,\n",
        "                   y_train,\n",
        "                   validation_data=(x_test,y_test),\n",
        "                   epochs=11)"
      ],
      "metadata": {
        "colab": {
          "base_uri": "https://localhost:8080/"
        },
        "id": "mXg4KmO6tj7t",
        "outputId": "986bb91f-2017-4e88-8229-794ec0851fb7"
      },
      "execution_count": 68,
      "outputs": [
        {
          "output_type": "stream",
          "name": "stdout",
          "text": [
            "Epoch 1/11\n",
            "1750/1750 [==============================] - 16s 9ms/step - loss: 0.3254 - acc: 0.8866 - val_loss: 0.3521 - val_acc: 0.8782\n",
            "Epoch 2/11\n",
            "1750/1750 [==============================] - 15s 9ms/step - loss: 0.3252 - acc: 0.8875 - val_loss: 0.3552 - val_acc: 0.8779\n",
            "Epoch 3/11\n",
            "1750/1750 [==============================] - 16s 9ms/step - loss: 0.3243 - acc: 0.8878 - val_loss: 0.3511 - val_acc: 0.8785\n",
            "Epoch 4/11\n",
            "1750/1750 [==============================] - 15s 9ms/step - loss: 0.3237 - acc: 0.8875 - val_loss: 0.3519 - val_acc: 0.8773\n",
            "Epoch 5/11\n",
            "1750/1750 [==============================] - 15s 9ms/step - loss: 0.3233 - acc: 0.8878 - val_loss: 0.3506 - val_acc: 0.8788\n",
            "Epoch 6/11\n",
            "1750/1750 [==============================] - 15s 9ms/step - loss: 0.3219 - acc: 0.8878 - val_loss: 0.3509 - val_acc: 0.8775\n",
            "Epoch 7/11\n",
            "1750/1750 [==============================] - 19s 11ms/step - loss: 0.3215 - acc: 0.8888 - val_loss: 0.3478 - val_acc: 0.8814\n",
            "Epoch 8/11\n",
            "1750/1750 [==============================] - 17s 10ms/step - loss: 0.3207 - acc: 0.8884 - val_loss: 0.3514 - val_acc: 0.8773\n",
            "Epoch 9/11\n",
            "1750/1750 [==============================] - 15s 9ms/step - loss: 0.3200 - acc: 0.8890 - val_loss: 0.3510 - val_acc: 0.8791\n",
            "Epoch 10/11\n",
            "1750/1750 [==============================] - 16s 9ms/step - loss: 0.3194 - acc: 0.8889 - val_loss: 0.3493 - val_acc: 0.8795\n",
            "Epoch 11/11\n",
            "1750/1750 [==============================] - 15s 9ms/step - loss: 0.3192 - acc: 0.8894 - val_loss: 0.3507 - val_acc: 0.8785\n"
          ]
        }
      ]
    },
    {
      "cell_type": "code",
      "source": [
        "# Visualizar la pérdida\n",
        "plt.plot(history.history['loss'], label='Train loss')\n",
        "plt.plot(history.history['val_loss'], label='Test Loss')\n",
        "plt.legend();"
      ],
      "metadata": {
        "colab": {
          "base_uri": "https://localhost:8080/",
          "height": 265
        },
        "id": "D3gB2uPYt-yE",
        "outputId": "8dd6844d-dffe-4f11-c2b1-0791646113a0"
      },
      "execution_count": 69,
      "outputs": [
        {
          "output_type": "display_data",
          "data": {
            "text/plain": [
              "<Figure size 432x288 with 1 Axes>"
            ],
            "image/png": "[encoded data removed]"
          },
          "metadata": {
            "needs_background": "light"
          }
        }
      ]
    },
    {
      "cell_type": "code",
      "source": [
        "# Visualizar la precisión\n",
        "plt.plot(history.history['acc'], label='Train Accuracy')\n",
        "plt.plot(history.history['val_acc'], label='Test Accuracy')\n",
        "plt.legend();"
      ],
      "metadata": {
        "colab": {
          "base_uri": "https://localhost:8080/",
          "height": 265
        },
        "id": "VeN-XKYnuBu-",
        "outputId": "0b324c57-d17c-4f27-ac1d-620e95e412b1"
      },
      "execution_count": 70,
      "outputs": [
        {
          "output_type": "display_data",
          "data": {
            "text/plain": [
              "<Figure size 432x288 with 1 Axes>"
            ],
            "image/png": "[encoded data removed]"
          },
          "metadata": {
            "needs_background": "light"
          }
        }
      ]
    },
    {
      "cell_type": "markdown",
      "source": [
        "La precisión con un modelo que no está sobreajustado llega casi al 88%."
      ],
      "metadata": {
        "id": "EN8AzkUeuest"
      }
    }
  ]
}