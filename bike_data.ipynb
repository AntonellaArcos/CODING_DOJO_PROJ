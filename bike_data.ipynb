{
  "nbformat": 4,
  "nbformat_minor": 0,
  "metadata": {
    "colab": {
      "name": "bike_data.ipynb",
      "provenance": []
    },
    "kernelspec": {
      "name": "python3",
      "display_name": "Python 3"
    },
    "language_info": {
      "name": "python"
    }
  },
  "cells": [
    {
      "cell_type": "markdown",
      "source": [
        "#**2021/W1: The Great Bicycle Boom of 2020**\n",
        "###Elaborado por: Antonella Arcos"
      ],
      "metadata": {
        "id": "OlYPkrWtb25v"
      }
    },
    {
      "cell_type": "markdown",
      "source": [
        "When stay-at-home orders curtailed daily life\n",
        "around the goal, the role of bicycles\n",
        "transformed. One in 10 American adults\n",
        "reported having ridden a bike for the first time\n",
        "in a vear (or longer) since the onset of Covid-19.\n",
        "According to Rails-to-Trails Conservancy (RTC),\n",
        "a non-profit promoting the development of\n",
        "disused rail lines into trails for walking and\n",
        "cycling ridership on trails in the US peaked at a\n",
        "threefold increase compared to the same period\n",
        "in 2019 in March 2020."
      ],
      "metadata": {
        "id": "Ik9xoVIIenOQ"
      }
    },
    {
      "cell_type": "code",
      "source": [
        "#Montar datos\n",
        "from google.colab import drive\n",
        "drive.mount('/content/drive')"
      ],
      "metadata": {
        "colab": {
          "base_uri": "https://localhost:8080/"
        },
        "id": "V-kPGnACFCwQ",
        "outputId": "56a043d5-5df9-4e46-d9fc-1ae878e9a6f5"
      },
      "execution_count": null,
      "outputs": [
        {
          "output_type": "stream",
          "name": "stdout",
          "text": [
            "Mounted at /content/drive\n"
          ]
        }
      ]
    },
    {
      "cell_type": "code",
      "execution_count": 24,
      "metadata": {
        "id": "OlKWLNPCWK00"
      },
      "outputs": [],
      "source": [
        "import matplotlib.pyplot as plt\n",
        "import pandas as pd\n",
        "import numpy as np"
      ]
    },
    {
      "cell_type": "code",
      "source": [
        "bk = pd.read_excel('/content/drive/MyDrive/CODING_DOJO/Week_3/RailsToTrails_National Count Data_week.xlsx')"
      ],
      "metadata": {
        "id": "2oH8g2W7FN9-"
      },
      "execution_count": 14,
      "outputs": []
    },
    {
      "cell_type": "code",
      "source": [
        "bk.info()"
      ],
      "metadata": {
        "colab": {
          "base_uri": "https://localhost:8080/"
        },
        "id": "irn2cPIiSeMs",
        "outputId": "eaa276b0-16cd-4046-fbd4-6491cd068a0b"
      },
      "execution_count": 15,
      "outputs": [
        {
          "output_type": "stream",
          "name": "stdout",
          "text": [
            "<class 'pandas.core.frame.DataFrame'>\n",
            "RangeIndex: 100 entries, 0 to 99\n",
            "Data columns (total 7 columns):\n",
            " #   Column                     Non-Null Count  Dtype         \n",
            "---  ------                     --------------  -----         \n",
            " 0   Year                       100 non-null    int64         \n",
            " 1   Timeframe                  100 non-null    object        \n",
            " 2   Week                       100 non-null    datetime64[ns]\n",
            " 3   Counts (31 counters)       100 non-null    int64         \n",
            " 4   Covid Period               100 non-null    object        \n",
            " 5   Pedestrians (14 counters)  92 non-null     float64       \n",
            " 6   Bikes (14 counters)        92 non-null     float64       \n",
            "dtypes: datetime64[ns](1), float64(2), int64(2), object(2)\n",
            "memory usage: 5.6+ KB\n"
          ]
        }
      ]
    },
    {
      "cell_type": "code",
      "source": [
        "bk.head()"
      ],
      "metadata": {
        "colab": {
          "base_uri": "https://localhost:8080/",
          "height": 201
        },
        "id": "8neuoqYrSjtk",
        "outputId": "8d39dd9d-5b27-4baf-e492-6f90f7630f4a"
      },
      "execution_count": 17,
      "outputs": [
        {
          "output_type": "execute_result",
          "data": {
            "text/html": [
              "\n",
              "  <div id=\"df-dde5e843-dc6d-48b2-8b4a-acc0d045f9b1\">\n",
              "    <div class=\"colab-df-container\">\n",
              "      <div>\n",
              "<style scoped>\n",
              "    .dataframe tbody tr th:only-of-type {\n",
              "        vertical-align: middle;\n",
              "    }\n",
              "\n",
              "    .dataframe tbody tr th {\n",
              "        vertical-align: top;\n",
              "    }\n",
              "\n",
              "    .dataframe thead th {\n",
              "        text-align: right;\n",
              "    }\n",
              "</style>\n",
              "<table border=\"1\" class=\"dataframe\">\n",
              "  <thead>\n",
              "    <tr style=\"text-align: right;\">\n",
              "      <th></th>\n",
              "      <th>Year</th>\n",
              "      <th>Timeframe</th>\n",
              "      <th>Week</th>\n",
              "      <th>Counts (31 counters)</th>\n",
              "      <th>Covid Period</th>\n",
              "      <th>Pedestrians (14 counters)</th>\n",
              "      <th>Bikes (14 counters)</th>\n",
              "    </tr>\n",
              "  </thead>\n",
              "  <tbody>\n",
              "    <tr>\n",
              "      <th>0</th>\n",
              "      <td>2019</td>\n",
              "      <td>Week 1</td>\n",
              "      <td>2018-12-30</td>\n",
              "      <td>167679</td>\n",
              "      <td>N</td>\n",
              "      <td>68957.0</td>\n",
              "      <td>63100.0</td>\n",
              "    </tr>\n",
              "    <tr>\n",
              "      <th>1</th>\n",
              "      <td>2019</td>\n",
              "      <td>Week 2</td>\n",
              "      <td>2019-01-06</td>\n",
              "      <td>82340</td>\n",
              "      <td>N</td>\n",
              "      <td>34778.0</td>\n",
              "      <td>31703.0</td>\n",
              "    </tr>\n",
              "    <tr>\n",
              "      <th>2</th>\n",
              "      <td>2019</td>\n",
              "      <td>Week 3</td>\n",
              "      <td>2019-01-13</td>\n",
              "      <td>62315</td>\n",
              "      <td>N</td>\n",
              "      <td>32065.0</td>\n",
              "      <td>18082.0</td>\n",
              "    </tr>\n",
              "    <tr>\n",
              "      <th>3</th>\n",
              "      <td>2019</td>\n",
              "      <td>Week 4</td>\n",
              "      <td>2019-01-20</td>\n",
              "      <td>75801</td>\n",
              "      <td>N</td>\n",
              "      <td>35016.0</td>\n",
              "      <td>26280.0</td>\n",
              "    </tr>\n",
              "    <tr>\n",
              "      <th>4</th>\n",
              "      <td>2019</td>\n",
              "      <td>Week 5</td>\n",
              "      <td>2019-01-27</td>\n",
              "      <td>75841</td>\n",
              "      <td>N</td>\n",
              "      <td>33627.0</td>\n",
              "      <td>24447.0</td>\n",
              "    </tr>\n",
              "  </tbody>\n",
              "</table>\n",
              "</div>\n",
              "      <button class=\"colab-df-convert\" onclick=\"convertToInteractive('df-dde5e843-dc6d-48b2-8b4a-acc0d045f9b1')\"\n",
              "              title=\"Convert this dataframe to an interactive table.\"\n",
              "              style=\"display:none;\">\n",
              "        \n",
              "  <svg xmlns=\"http://www.w3.org/2000/svg\" height=\"24px\"viewBox=\"0 0 24 24\"\n",
              "       width=\"24px\">\n",
              "    <path d=\"M0 0h24v24H0V0z\" fill=\"none\"/>\n",
              "    <path d=\"M18.56 5.44l.94 2.06.94-2.06 2.06-.94-2.06-.94-.94-2.06-.94 2.06-2.06.94zm-11 1L8.5 8.5l.94-2.06 2.06-.94-2.06-.94L8.5 2.5l-.94 2.06-2.06.94zm10 10l.94 2.06.94-2.06 2.06-.94-2.06-.94-.94-2.06-.94 2.06-2.06.94z\"/><path d=\"M17.41 7.96l-1.37-1.37c-.4-.4-.92-.59-1.43-.59-.52 0-1.04.2-1.43.59L10.3 9.45l-7.72 7.72c-.78.78-.78 2.05 0 2.83L4 21.41c.39.39.9.59 1.41.59.51 0 1.02-.2 1.41-.59l7.78-7.78 2.81-2.81c.8-.78.8-2.07 0-2.86zM5.41 20L4 18.59l7.72-7.72 1.47 1.35L5.41 20z\"/>\n",
              "  </svg>\n",
              "      </button>\n",
              "      \n",
              "  <style>\n",
              "    .colab-df-container {\n",
              "      display:flex;\n",
              "      flex-wrap:wrap;\n",
              "      gap: 12px;\n",
              "    }\n",
              "\n",
              "    .colab-df-convert {\n",
              "      background-color: #E8F0FE;\n",
              "      border: none;\n",
              "      border-radius: 50%;\n",
              "      cursor: pointer;\n",
              "      display: none;\n",
              "      fill: #1967D2;\n",
              "      height: 32px;\n",
              "      padding: 0 0 0 0;\n",
              "      width: 32px;\n",
              "    }\n",
              "\n",
              "    .colab-df-convert:hover {\n",
              "      background-color: #E2EBFA;\n",
              "      box-shadow: 0px 1px 2px rgba(60, 64, 67, 0.3), 0px 1px 3px 1px rgba(60, 64, 67, 0.15);\n",
              "      fill: #174EA6;\n",
              "    }\n",
              "\n",
              "    [theme=dark] .colab-df-convert {\n",
              "      background-color: #3B4455;\n",
              "      fill: #D2E3FC;\n",
              "    }\n",
              "\n",
              "    [theme=dark] .colab-df-convert:hover {\n",
              "      background-color: #434B5C;\n",
              "      box-shadow: 0px 1px 3px 1px rgba(0, 0, 0, 0.15);\n",
              "      filter: drop-shadow(0px 1px 2px rgba(0, 0, 0, 0.3));\n",
              "      fill: #FFFFFF;\n",
              "    }\n",
              "  </style>\n",
              "\n",
              "      <script>\n",
              "        const buttonEl =\n",
              "          document.querySelector('#df-dde5e843-dc6d-48b2-8b4a-acc0d045f9b1 button.colab-df-convert');\n",
              "        buttonEl.style.display =\n",
              "          google.colab.kernel.accessAllowed ? 'block' : 'none';\n",
              "\n",
              "        async function convertToInteractive(key) {\n",
              "          const element = document.querySelector('#df-dde5e843-dc6d-48b2-8b4a-acc0d045f9b1');\n",
              "          const dataTable =\n",
              "            await google.colab.kernel.invokeFunction('convertToInteractive',\n",
              "                                                     [key], {});\n",
              "          if (!dataTable) return;\n",
              "\n",
              "          const docLinkHtml = 'Like what you see? Visit the ' +\n",
              "            '<a target=\"_blank\" href=https://colab.research.google.com/notebooks/data_table.ipynb>data table notebook</a>'\n",
              "            + ' to learn more about interactive tables.';\n",
              "          element.innerHTML = '';\n",
              "          dataTable['output_type'] = 'display_data';\n",
              "          await google.colab.output.renderOutput(dataTable, element);\n",
              "          const docLink = document.createElement('div');\n",
              "          docLink.innerHTML = docLinkHtml;\n",
              "          element.appendChild(docLink);\n",
              "        }\n",
              "      </script>\n",
              "    </div>\n",
              "  </div>\n",
              "  "
            ],
            "text/plain": [
              "   Year Timeframe  ... Pedestrians (14 counters)  Bikes (14 counters)\n",
              "0  2019    Week 1  ...                   68957.0              63100.0\n",
              "1  2019    Week 2  ...                   34778.0              31703.0\n",
              "2  2019    Week 3  ...                   32065.0              18082.0\n",
              "3  2019    Week 4  ...                   35016.0              26280.0\n",
              "4  2019    Week 5  ...                   33627.0              24447.0\n",
              "\n",
              "[5 rows x 7 columns]"
            ]
          },
          "metadata": {},
          "execution_count": 17
        }
      ]
    },
    {
      "cell_type": "code",
      "source": [
        "covper = bk.groupby(['Covid Period'])['Counts (31 counters)'].sum()\n",
        "covper"
      ],
      "metadata": {
        "colab": {
          "base_uri": "https://localhost:8080/"
        },
        "id": "-0W6uY6Ha_bW",
        "outputId": "fb6e460e-c123-4cf3-b6f3-b7da4a3adcf4"
      },
      "execution_count": 31,
      "outputs": [
        {
          "output_type": "execute_result",
          "data": {
            "text/plain": [
              "Covid Period\n",
              "N     2444932\n",
              "Y    14871378\n",
              "Name: Counts (31 counters), dtype: int64"
            ]
          },
          "metadata": {},
          "execution_count": 31
        }
      ]
    },
    {
      "cell_type": "code",
      "source": [
        "wk = bk['Timeframe']"
      ],
      "metadata": {
        "id": "lcymn9FJmdta"
      },
      "execution_count": 40,
      "outputs": []
    },
    {
      "cell_type": "code",
      "source": [
        "plt.bar(covper.index, week.values);\n",
        "plt.title('Boom de bicicletas 2020', fontsize = 16)\n",
        "plt.xlabel('Covid time', fontsize = 12)\n",
        "plt.ylabel('Bike Counts', fontsize = 12)\n",
        "plt.show()"
      ],
      "metadata": {
        "colab": {
          "base_uri": "https://localhost:8080/",
          "height": 381
        },
        "id": "2QU9kxw-bhgP",
        "outputId": "c035ece0-7a00-49b4-ea5a-8a00c6198082"
      },
      "execution_count": 42,
      "outputs": [
        {
          "output_type": "display_data",
          "data": {
            "image/png": "[encoded data removed]",
            "text/plain": [
              "<Figure size 576x396 with 1 Axes>"
            ]
          },
          "metadata": {}
        }
      ]
    },
    {
      "cell_type": "code",
      "source": [
        "\n",
        "cont = bk['Counts (31 counters)']\n",
        "\n",
        "wk = list(wk.index)\n",
        "cont = list(cont.values)\n",
        "\n",
        "plt.style.use('seaborn')\n",
        "plt.plot(wk, cont)\n",
        "\n",
        "plt.title('Boom de bicicletas 2020', fontsize = 16)\n",
        "plt.xlabel('weeks', fontsize = 12)\n",
        "plt.ylabel('Bike Counts', fontsize = 12)\n",
        "plt.show()\n"
      ],
      "metadata": {
        "colab": {
          "base_uri": "https://localhost:8080/",
          "height": 381
        },
        "id": "mMQyNYvOeurY",
        "outputId": "55199fce-7c53-4b9f-d5e4-44bf392657a3"
      },
      "execution_count": 39,
      "outputs": [
        {
          "output_type": "display_data",
          "data": {
            "image/png": "[encoded data removed]",
            "text/plain": [
              "<Figure size 576x396 with 1 Axes>"
            ]
          },
          "metadata": {}
        }
      ]
    },
    {
      "cell_type": "code",
      "source": [
        ""
      ],
      "metadata": {
        "id": "GnIpUd1PhbP2"
      },
      "execution_count": null,
      "outputs": []
    },
    {
      "cell_type": "code",
      "source": [
        ""
      ],
      "metadata": {
        "id": "PZUf8ZH9jE93"
      },
      "execution_count": null,
      "outputs": []
    }
  ]
}