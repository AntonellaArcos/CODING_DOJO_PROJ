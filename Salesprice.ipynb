{
  "nbformat": 4,
  "nbformat_minor": 0,
  "metadata": {
    "colab": {
      "name": "Salesprice.ipynb",
      "provenance": [],
      "collapsed_sections": []
    },
    "kernelspec": {
      "name": "python3",
      "display_name": "Python 3"
    },
    "language_info": {
      "name": "python"
    }
  },
  "cells": [
    {
      "cell_type": "markdown",
      "source": [
        "#**Potenciación del gradiente en Python**\n",
        "##*COMPETITION TITLE: House Prices - Advanced Regression Techniques*\n",
        "COMPETITION WEBSITE: https://www.kaggle.com/c/house-prices-advanced-regression-techniques"
      ],
      "metadata": {
        "id": "bRGXrU6mCJqZ"
      }
    },
    {
      "cell_type": "code",
      "execution_count": 1,
      "metadata": {
        "id": "h0UUX_kDCI2S",
        "colab": {
          "base_uri": "https://localhost:8080/"
        },
        "outputId": "d4807619-0579-469d-e52f-9f7f8647294e"
      },
      "outputs": [
        {
          "output_type": "stream",
          "name": "stdout",
          "text": [
            "Mounted at /content/drive\n"
          ]
        }
      ],
      "source": [
        "from google.colab import drive\n",
        "drive.mount('/content/drive')"
      ]
    },
    {
      "cell_type": "code",
      "source": [
        "# Imports\n",
        "import numpy as np\n",
        "import matplotlib.pyplot as plt\n",
        "import pandas as pd\n",
        "from sklearn.preprocessing import StandardScaler\n",
        "from sklearn.model_selection import train_test_split\n",
        "\n",
        "\n"
      ],
      "metadata": {
        "id": "9R5xWCK05hvB"
      },
      "execution_count": 2,
      "outputs": []
    },
    {
      "cell_type": "code",
      "source": [
        "# Obtener datos\n",
        "test_df = pd.read_csv('/content/drive/MyDrive/CODING_DOJO/Week_10/test.csv')\n",
        "train_df = pd.read_csv('/content/drive/MyDrive/CODING_DOJO/Week_10/train.csv')\n",
        "print(train_df.shape)\n",
        "print(test_df.shape)"
      ],
      "metadata": {
        "colab": {
          "base_uri": "https://localhost:8080/"
        },
        "id": "4yMchNSe5nx_",
        "outputId": "98c441e1-354c-4e54-9c85-f86f0fde9669"
      },
      "execution_count": 193,
      "outputs": [
        {
          "output_type": "stream",
          "name": "stdout",
          "text": [
            "(1460, 81)\n",
            "(1459, 80)\n"
          ]
        }
      ]
    },
    {
      "cell_type": "code",
      "source": [
        "data = pd.concat([test_df,train_df],axis=0,ignore_index=True)"
      ],
      "metadata": {
        "id": "SvTX8OlO8SNN"
      },
      "execution_count": 143,
      "outputs": []
    },
    {
      "cell_type": "code",
      "source": [
        "data.head()"
      ],
      "metadata": {
        "colab": {
          "base_uri": "https://localhost:8080/",
          "height": 297
        },
        "id": "sKXfVcu_8dMQ",
        "outputId": "033ba60e-c993-4ae0-a273-45529246b1fe"
      },
      "execution_count": 99,
      "outputs": [
        {
          "output_type": "execute_result",
          "data": {
            "text/plain": [
              "     Id  MSSubClass MSZoning  LotFrontage  LotArea Street Alley LotShape  \\\n",
              "0  1461          20       RH         80.0    11622   Pave   NaN      Reg   \n",
              "1  1462          20       RL         81.0    14267   Pave   NaN      IR1   \n",
              "2  1463          60       RL         74.0    13830   Pave   NaN      IR1   \n",
              "3  1464          60       RL         78.0     9978   Pave   NaN      IR1   \n",
              "4  1465         120       RL         43.0     5005   Pave   NaN      IR1   \n",
              "\n",
              "  LandContour Utilities  ... PoolArea PoolQC  Fence MiscFeature MiscVal  \\\n",
              "0         Lvl    AllPub  ...        0    NaN  MnPrv         NaN       0   \n",
              "1         Lvl    AllPub  ...        0    NaN    NaN        Gar2   12500   \n",
              "2         Lvl    AllPub  ...        0    NaN  MnPrv         NaN       0   \n",
              "3         Lvl    AllPub  ...        0    NaN    NaN         NaN       0   \n",
              "4         HLS    AllPub  ...        0    NaN    NaN         NaN       0   \n",
              "\n",
              "  MoSold YrSold  SaleType  SaleCondition  SalePrice  \n",
              "0      6   2010        WD         Normal        NaN  \n",
              "1      6   2010        WD         Normal        NaN  \n",
              "2      3   2010        WD         Normal        NaN  \n",
              "3      6   2010        WD         Normal        NaN  \n",
              "4      1   2010        WD         Normal        NaN  \n",
              "\n",
              "[5 rows x 81 columns]"
            ],
            "text/html": [
              "\n",
              "  <div id=\"df-9590c7c5-9b01-4878-a29c-d6c265c70b3a\">\n",
              "    <div class=\"colab-df-container\">\n",
              "      <div>\n",
              "<style scoped>\n",
              "    .dataframe tbody tr th:only-of-type {\n",
              "        vertical-align: middle;\n",
              "    }\n",
              "\n",
              "    .dataframe tbody tr th {\n",
              "        vertical-align: top;\n",
              "    }\n",
              "\n",
              "    .dataframe thead th {\n",
              "        text-align: right;\n",
              "    }\n",
              "</style>\n",
              "<table border=\"1\" class=\"dataframe\">\n",
              "  <thead>\n",
              "    <tr style=\"text-align: right;\">\n",
              "      <th></th>\n",
              "      <th>Id</th>\n",
              "      <th>MSSubClass</th>\n",
              "      <th>MSZoning</th>\n",
              "      <th>LotFrontage</th>\n",
              "      <th>LotArea</th>\n",
              "      <th>Street</th>\n",
              "      <th>Alley</th>\n",
              "      <th>LotShape</th>\n",
              "      <th>LandContour</th>\n",
              "      <th>Utilities</th>\n",
              "      <th>...</th>\n",
              "      <th>PoolArea</th>\n",
              "      <th>PoolQC</th>\n",
              "      <th>Fence</th>\n",
              "      <th>MiscFeature</th>\n",
              "      <th>MiscVal</th>\n",
              "      <th>MoSold</th>\n",
              "      <th>YrSold</th>\n",
              "      <th>SaleType</th>\n",
              "      <th>SaleCondition</th>\n",
              "      <th>SalePrice</th>\n",
              "    </tr>\n",
              "  </thead>\n",
              "  <tbody>\n",
              "    <tr>\n",
              "      <th>0</th>\n",
              "      <td>1461</td>\n",
              "      <td>20</td>\n",
              "      <td>RH</td>\n",
              "      <td>80.0</td>\n",
              "      <td>11622</td>\n",
              "      <td>Pave</td>\n",
              "      <td>NaN</td>\n",
              "      <td>Reg</td>\n",
              "      <td>Lvl</td>\n",
              "      <td>AllPub</td>\n",
              "      <td>...</td>\n",
              "      <td>0</td>\n",
              "      <td>NaN</td>\n",
              "      <td>MnPrv</td>\n",
              "      <td>NaN</td>\n",
              "      <td>0</td>\n",
              "      <td>6</td>\n",
              "      <td>2010</td>\n",
              "      <td>WD</td>\n",
              "      <td>Normal</td>\n",
              "      <td>NaN</td>\n",
              "    </tr>\n",
              "    <tr>\n",
              "      <th>1</th>\n",
              "      <td>1462</td>\n",
              "      <td>20</td>\n",
              "      <td>RL</td>\n",
              "      <td>81.0</td>\n",
              "      <td>14267</td>\n",
              "      <td>Pave</td>\n",
              "      <td>NaN</td>\n",
              "      <td>IR1</td>\n",
              "      <td>Lvl</td>\n",
              "      <td>AllPub</td>\n",
              "      <td>...</td>\n",
              "      <td>0</td>\n",
              "      <td>NaN</td>\n",
              "      <td>NaN</td>\n",
              "      <td>Gar2</td>\n",
              "      <td>12500</td>\n",
              "      <td>6</td>\n",
              "      <td>2010</td>\n",
              "      <td>WD</td>\n",
              "      <td>Normal</td>\n",
              "      <td>NaN</td>\n",
              "    </tr>\n",
              "    <tr>\n",
              "      <th>2</th>\n",
              "      <td>1463</td>\n",
              "      <td>60</td>\n",
              "      <td>RL</td>\n",
              "      <td>74.0</td>\n",
              "      <td>13830</td>\n",
              "      <td>Pave</td>\n",
              "      <td>NaN</td>\n",
              "      <td>IR1</td>\n",
              "      <td>Lvl</td>\n",
              "      <td>AllPub</td>\n",
              "      <td>...</td>\n",
              "      <td>0</td>\n",
              "      <td>NaN</td>\n",
              "      <td>MnPrv</td>\n",
              "      <td>NaN</td>\n",
              "      <td>0</td>\n",
              "      <td>3</td>\n",
              "      <td>2010</td>\n",
              "      <td>WD</td>\n",
              "      <td>Normal</td>\n",
              "      <td>NaN</td>\n",
              "    </tr>\n",
              "    <tr>\n",
              "      <th>3</th>\n",
              "      <td>1464</td>\n",
              "      <td>60</td>\n",
              "      <td>RL</td>\n",
              "      <td>78.0</td>\n",
              "      <td>9978</td>\n",
              "      <td>Pave</td>\n",
              "      <td>NaN</td>\n",
              "      <td>IR1</td>\n",
              "      <td>Lvl</td>\n",
              "      <td>AllPub</td>\n",
              "      <td>...</td>\n",
              "      <td>0</td>\n",
              "      <td>NaN</td>\n",
              "      <td>NaN</td>\n",
              "      <td>NaN</td>\n",
              "      <td>0</td>\n",
              "      <td>6</td>\n",
              "      <td>2010</td>\n",
              "      <td>WD</td>\n",
              "      <td>Normal</td>\n",
              "      <td>NaN</td>\n",
              "    </tr>\n",
              "    <tr>\n",
              "      <th>4</th>\n",
              "      <td>1465</td>\n",
              "      <td>120</td>\n",
              "      <td>RL</td>\n",
              "      <td>43.0</td>\n",
              "      <td>5005</td>\n",
              "      <td>Pave</td>\n",
              "      <td>NaN</td>\n",
              "      <td>IR1</td>\n",
              "      <td>HLS</td>\n",
              "      <td>AllPub</td>\n",
              "      <td>...</td>\n",
              "      <td>0</td>\n",
              "      <td>NaN</td>\n",
              "      <td>NaN</td>\n",
              "      <td>NaN</td>\n",
              "      <td>0</td>\n",
              "      <td>1</td>\n",
              "      <td>2010</td>\n",
              "      <td>WD</td>\n",
              "      <td>Normal</td>\n",
              "      <td>NaN</td>\n",
              "    </tr>\n",
              "  </tbody>\n",
              "</table>\n",
              "<p>5 rows × 81 columns</p>\n",
              "</div>\n",
              "      <button class=\"colab-df-convert\" onclick=\"convertToInteractive('df-9590c7c5-9b01-4878-a29c-d6c265c70b3a')\"\n",
              "              title=\"Convert this dataframe to an interactive table.\"\n",
              "              style=\"display:none;\">\n",
              "        \n",
              "  <svg xmlns=\"http://www.w3.org/2000/svg\" height=\"24px\"viewBox=\"0 0 24 24\"\n",
              "       width=\"24px\">\n",
              "    <path d=\"M0 0h24v24H0V0z\" fill=\"none\"/>\n",
              "    <path d=\"M18.56 5.44l.94 2.06.94-2.06 2.06-.94-2.06-.94-.94-2.06-.94 2.06-2.06.94zm-11 1L8.5 8.5l.94-2.06 2.06-.94-2.06-.94L8.5 2.5l-.94 2.06-2.06.94zm10 10l.94 2.06.94-2.06 2.06-.94-2.06-.94-.94-2.06-.94 2.06-2.06.94z\"/><path d=\"M17.41 7.96l-1.37-1.37c-.4-.4-.92-.59-1.43-.59-.52 0-1.04.2-1.43.59L10.3 9.45l-7.72 7.72c-.78.78-.78 2.05 0 2.83L4 21.41c.39.39.9.59 1.41.59.51 0 1.02-.2 1.41-.59l7.78-7.78 2.81-2.81c.8-.78.8-2.07 0-2.86zM5.41 20L4 18.59l7.72-7.72 1.47 1.35L5.41 20z\"/>\n",
              "  </svg>\n",
              "      </button>\n",
              "      \n",
              "  <style>\n",
              "    .colab-df-container {\n",
              "      display:flex;\n",
              "      flex-wrap:wrap;\n",
              "      gap: 12px;\n",
              "    }\n",
              "\n",
              "    .colab-df-convert {\n",
              "      background-color: #E8F0FE;\n",
              "      border: none;\n",
              "      border-radius: 50%;\n",
              "      cursor: pointer;\n",
              "      display: none;\n",
              "      fill: #1967D2;\n",
              "      height: 32px;\n",
              "      padding: 0 0 0 0;\n",
              "      width: 32px;\n",
              "    }\n",
              "\n",
              "    .colab-df-convert:hover {\n",
              "      background-color: #E2EBFA;\n",
              "      box-shadow: 0px 1px 2px rgba(60, 64, 67, 0.3), 0px 1px 3px 1px rgba(60, 64, 67, 0.15);\n",
              "      fill: #174EA6;\n",
              "    }\n",
              "\n",
              "    [theme=dark] .colab-df-convert {\n",
              "      background-color: #3B4455;\n",
              "      fill: #D2E3FC;\n",
              "    }\n",
              "\n",
              "    [theme=dark] .colab-df-convert:hover {\n",
              "      background-color: #434B5C;\n",
              "      box-shadow: 0px 1px 3px 1px rgba(0, 0, 0, 0.15);\n",
              "      filter: drop-shadow(0px 1px 2px rgba(0, 0, 0, 0.3));\n",
              "      fill: #FFFFFF;\n",
              "    }\n",
              "  </style>\n",
              "\n",
              "      <script>\n",
              "        const buttonEl =\n",
              "          document.querySelector('#df-9590c7c5-9b01-4878-a29c-d6c265c70b3a button.colab-df-convert');\n",
              "        buttonEl.style.display =\n",
              "          google.colab.kernel.accessAllowed ? 'block' : 'none';\n",
              "\n",
              "        async function convertToInteractive(key) {\n",
              "          const element = document.querySelector('#df-9590c7c5-9b01-4878-a29c-d6c265c70b3a');\n",
              "          const dataTable =\n",
              "            await google.colab.kernel.invokeFunction('convertToInteractive',\n",
              "                                                     [key], {});\n",
              "          if (!dataTable) return;\n",
              "\n",
              "          const docLinkHtml = 'Like what you see? Visit the ' +\n",
              "            '<a target=\"_blank\" href=https://colab.research.google.com/notebooks/data_table.ipynb>data table notebook</a>'\n",
              "            + ' to learn more about interactive tables.';\n",
              "          element.innerHTML = '';\n",
              "          dataTable['output_type'] = 'display_data';\n",
              "          await google.colab.output.renderOutput(dataTable, element);\n",
              "          const docLink = document.createElement('div');\n",
              "          docLink.innerHTML = docLinkHtml;\n",
              "          element.appendChild(docLink);\n",
              "        }\n",
              "      </script>\n",
              "    </div>\n",
              "  </div>\n",
              "  "
            ]
          },
          "metadata": {},
          "execution_count": 99
        }
      ]
    },
    {
      "cell_type": "code",
      "source": [
        "data.info()"
      ],
      "metadata": {
        "colab": {
          "base_uri": "https://localhost:8080/"
        },
        "id": "L1MkpNBw8fRm",
        "outputId": "688737c2-a323-4878-b3c0-b7f1a8f9aa02"
      },
      "execution_count": 144,
      "outputs": [
        {
          "output_type": "stream",
          "name": "stdout",
          "text": [
            "<class 'pandas.core.frame.DataFrame'>\n",
            "RangeIndex: 2919 entries, 0 to 2918\n",
            "Data columns (total 81 columns):\n",
            " #   Column         Non-Null Count  Dtype  \n",
            "---  ------         --------------  -----  \n",
            " 0   Id             2919 non-null   int64  \n",
            " 1   MSSubClass     2919 non-null   int64  \n",
            " 2   MSZoning       2915 non-null   object \n",
            " 3   LotFrontage    2433 non-null   float64\n",
            " 4   LotArea        2919 non-null   int64  \n",
            " 5   Street         2919 non-null   object \n",
            " 6   Alley          198 non-null    object \n",
            " 7   LotShape       2919 non-null   object \n",
            " 8   LandContour    2919 non-null   object \n",
            " 9   Utilities      2917 non-null   object \n",
            " 10  LotConfig      2919 non-null   object \n",
            " 11  LandSlope      2919 non-null   object \n",
            " 12  Neighborhood   2919 non-null   object \n",
            " 13  Condition1     2919 non-null   object \n",
            " 14  Condition2     2919 non-null   object \n",
            " 15  BldgType       2919 non-null   object \n",
            " 16  HouseStyle     2919 non-null   object \n",
            " 17  OverallQual    2919 non-null   int64  \n",
            " 18  OverallCond    2919 non-null   int64  \n",
            " 19  YearBuilt      2919 non-null   int64  \n",
            " 20  YearRemodAdd   2919 non-null   int64  \n",
            " 21  RoofStyle      2919 non-null   object \n",
            " 22  RoofMatl       2919 non-null   object \n",
            " 23  Exterior1st    2918 non-null   object \n",
            " 24  Exterior2nd    2918 non-null   object \n",
            " 25  MasVnrType     2895 non-null   object \n",
            " 26  MasVnrArea     2896 non-null   float64\n",
            " 27  ExterQual      2919 non-null   object \n",
            " 28  ExterCond      2919 non-null   object \n",
            " 29  Foundation     2919 non-null   object \n",
            " 30  BsmtQual       2838 non-null   object \n",
            " 31  BsmtCond       2837 non-null   object \n",
            " 32  BsmtExposure   2837 non-null   object \n",
            " 33  BsmtFinType1   2840 non-null   object \n",
            " 34  BsmtFinSF1     2918 non-null   float64\n",
            " 35  BsmtFinType2   2839 non-null   object \n",
            " 36  BsmtFinSF2     2918 non-null   float64\n",
            " 37  BsmtUnfSF      2918 non-null   float64\n",
            " 38  TotalBsmtSF    2918 non-null   float64\n",
            " 39  Heating        2919 non-null   object \n",
            " 40  HeatingQC      2919 non-null   object \n",
            " 41  CentralAir     2919 non-null   object \n",
            " 42  Electrical     2918 non-null   object \n",
            " 43  1stFlrSF       2919 non-null   int64  \n",
            " 44  2ndFlrSF       2919 non-null   int64  \n",
            " 45  LowQualFinSF   2919 non-null   int64  \n",
            " 46  GrLivArea      2919 non-null   int64  \n",
            " 47  BsmtFullBath   2917 non-null   float64\n",
            " 48  BsmtHalfBath   2917 non-null   float64\n",
            " 49  FullBath       2919 non-null   int64  \n",
            " 50  HalfBath       2919 non-null   int64  \n",
            " 51  BedroomAbvGr   2919 non-null   int64  \n",
            " 52  KitchenAbvGr   2919 non-null   int64  \n",
            " 53  KitchenQual    2918 non-null   object \n",
            " 54  TotRmsAbvGrd   2919 non-null   int64  \n",
            " 55  Functional     2917 non-null   object \n",
            " 56  Fireplaces     2919 non-null   int64  \n",
            " 57  FireplaceQu    1499 non-null   object \n",
            " 58  GarageType     2762 non-null   object \n",
            " 59  GarageYrBlt    2760 non-null   float64\n",
            " 60  GarageFinish   2760 non-null   object \n",
            " 61  GarageCars     2918 non-null   float64\n",
            " 62  GarageArea     2918 non-null   float64\n",
            " 63  GarageQual     2760 non-null   object \n",
            " 64  GarageCond     2760 non-null   object \n",
            " 65  PavedDrive     2919 non-null   object \n",
            " 66  WoodDeckSF     2919 non-null   int64  \n",
            " 67  OpenPorchSF    2919 non-null   int64  \n",
            " 68  EnclosedPorch  2919 non-null   int64  \n",
            " 69  3SsnPorch      2919 non-null   int64  \n",
            " 70  ScreenPorch    2919 non-null   int64  \n",
            " 71  PoolArea       2919 non-null   int64  \n",
            " 72  PoolQC         10 non-null     object \n",
            " 73  Fence          571 non-null    object \n",
            " 74  MiscFeature    105 non-null    object \n",
            " 75  MiscVal        2919 non-null   int64  \n",
            " 76  MoSold         2919 non-null   int64  \n",
            " 77  YrSold         2919 non-null   int64  \n",
            " 78  SaleType       2918 non-null   object \n",
            " 79  SaleCondition  2919 non-null   object \n",
            " 80  SalePrice      1460 non-null   float64\n",
            "dtypes: float64(12), int64(26), object(43)\n",
            "memory usage: 1.8+ MB\n"
          ]
        }
      ]
    },
    {
      "cell_type": "code",
      "source": [
        "def checkNull_fillData(df):\n",
        "    for col in df.columns:\n",
        "        if len(df.loc[df[col].isnull() == True]) != 0:\n",
        "            if df[col].dtype == \"float64\" or df[col].dtype == \"int64\":\n",
        "                df.loc[df[col].isnull() == True,col] = df[col].median()\n",
        "            else:\n",
        "                df.loc[df[col].isnull() == True,col] = \"Missing\"\n",
        "                \n",
        "checkNull_fillData(data)\n",
        "\n"
      ],
      "metadata": {
        "id": "jgAGT6Wq817z"
      },
      "execution_count": 145,
      "outputs": []
    },
    {
      "cell_type": "code",
      "source": [
        "col_names = []\n",
        "for col in data:\n",
        "    if data[col].dtypes == \"object\":\n",
        "        col_names.append(col)\n",
        "        \n",
        "from sklearn.preprocessing import LabelEncoder\n"
      ],
      "metadata": {
        "id": "b9k_79is-cQ_"
      },
      "execution_count": 146,
      "outputs": []
    },
    {
      "cell_type": "code",
      "source": [
        "data.info()"
      ],
      "metadata": {
        "colab": {
          "base_uri": "https://localhost:8080/"
        },
        "id": "0QOtKouB-mjG",
        "outputId": "646d8e3e-7d2c-4aef-defa-2dfcef68af2a"
      },
      "execution_count": 115,
      "outputs": [
        {
          "output_type": "stream",
          "name": "stdout",
          "text": [
            "<class 'pandas.core.frame.DataFrame'>\n",
            "RangeIndex: 2919 entries, 0 to 2918\n",
            "Data columns (total 81 columns):\n",
            " #   Column         Non-Null Count  Dtype  \n",
            "---  ------         --------------  -----  \n",
            " 0   Id             2919 non-null   int64  \n",
            " 1   MSSubClass     2919 non-null   int64  \n",
            " 2   MSZoning       2915 non-null   object \n",
            " 3   LotFrontage    2433 non-null   float64\n",
            " 4   LotArea        2919 non-null   int64  \n",
            " 5   Street         2919 non-null   object \n",
            " 6   Alley          198 non-null    object \n",
            " 7   LotShape       2919 non-null   object \n",
            " 8   LandContour    2919 non-null   object \n",
            " 9   Utilities      2917 non-null   object \n",
            " 10  LotConfig      2919 non-null   object \n",
            " 11  LandSlope      2919 non-null   object \n",
            " 12  Neighborhood   2919 non-null   object \n",
            " 13  Condition1     2919 non-null   object \n",
            " 14  Condition2     2919 non-null   object \n",
            " 15  BldgType       2919 non-null   object \n",
            " 16  HouseStyle     2919 non-null   object \n",
            " 17  OverallQual    2919 non-null   int64  \n",
            " 18  OverallCond    2919 non-null   int64  \n",
            " 19  YearBuilt      2919 non-null   int64  \n",
            " 20  YearRemodAdd   2919 non-null   int64  \n",
            " 21  RoofStyle      2919 non-null   object \n",
            " 22  RoofMatl       2919 non-null   object \n",
            " 23  Exterior1st    2918 non-null   object \n",
            " 24  Exterior2nd    2918 non-null   object \n",
            " 25  MasVnrType     2895 non-null   object \n",
            " 26  MasVnrArea     2896 non-null   float64\n",
            " 27  ExterQual      2919 non-null   object \n",
            " 28  ExterCond      2919 non-null   object \n",
            " 29  Foundation     2919 non-null   object \n",
            " 30  BsmtQual       2838 non-null   object \n",
            " 31  BsmtCond       2837 non-null   object \n",
            " 32  BsmtExposure   2837 non-null   object \n",
            " 33  BsmtFinType1   2840 non-null   object \n",
            " 34  BsmtFinSF1     2918 non-null   float64\n",
            " 35  BsmtFinType2   2839 non-null   object \n",
            " 36  BsmtFinSF2     2918 non-null   float64\n",
            " 37  BsmtUnfSF      2918 non-null   float64\n",
            " 38  TotalBsmtSF    2918 non-null   float64\n",
            " 39  Heating        2919 non-null   object \n",
            " 40  HeatingQC      2919 non-null   object \n",
            " 41  CentralAir     2919 non-null   object \n",
            " 42  Electrical     2918 non-null   object \n",
            " 43  1stFlrSF       2919 non-null   int64  \n",
            " 44  2ndFlrSF       2919 non-null   int64  \n",
            " 45  LowQualFinSF   2919 non-null   int64  \n",
            " 46  GrLivArea      2919 non-null   int64  \n",
            " 47  BsmtFullBath   2917 non-null   float64\n",
            " 48  BsmtHalfBath   2917 non-null   float64\n",
            " 49  FullBath       2919 non-null   int64  \n",
            " 50  HalfBath       2919 non-null   int64  \n",
            " 51  BedroomAbvGr   2919 non-null   int64  \n",
            " 52  KitchenAbvGr   2919 non-null   int64  \n",
            " 53  KitchenQual    2918 non-null   object \n",
            " 54  TotRmsAbvGrd   2919 non-null   int64  \n",
            " 55  Functional     2917 non-null   object \n",
            " 56  Fireplaces     2919 non-null   int64  \n",
            " 57  FireplaceQu    1499 non-null   object \n",
            " 58  GarageType     2762 non-null   object \n",
            " 59  GarageYrBlt    2760 non-null   float64\n",
            " 60  GarageFinish   2760 non-null   object \n",
            " 61  GarageCars     2918 non-null   float64\n",
            " 62  GarageArea     2918 non-null   float64\n",
            " 63  GarageQual     2760 non-null   object \n",
            " 64  GarageCond     2760 non-null   object \n",
            " 65  PavedDrive     2919 non-null   object \n",
            " 66  WoodDeckSF     2919 non-null   int64  \n",
            " 67  OpenPorchSF    2919 non-null   int64  \n",
            " 68  EnclosedPorch  2919 non-null   int64  \n",
            " 69  3SsnPorch      2919 non-null   int64  \n",
            " 70  ScreenPorch    2919 non-null   int64  \n",
            " 71  PoolArea       2919 non-null   int64  \n",
            " 72  PoolQC         10 non-null     object \n",
            " 73  Fence          571 non-null    object \n",
            " 74  MiscFeature    105 non-null    object \n",
            " 75  MiscVal        2919 non-null   int64  \n",
            " 76  MoSold         2919 non-null   int64  \n",
            " 77  YrSold         2919 non-null   int64  \n",
            " 78  SaleType       2918 non-null   object \n",
            " 79  SaleCondition  2919 non-null   object \n",
            " 80  SalePrice      1460 non-null   float64\n",
            "dtypes: float64(12), int64(26), object(43)\n",
            "memory usage: 1.8+ MB\n"
          ]
        }
      ]
    },
    {
      "cell_type": "code",
      "source": [
        "num: LotArea MSSubClass YearBuilt GrLivArea\n",
        "cat= LotShape Street Neighborhood HouseStyle RoofStyle Heating SaleCondition"
      ],
      "metadata": {
        "colab": {
          "base_uri": "https://localhost:8080/",
          "height": 297
        },
        "id": "13njAzSk9ryw",
        "outputId": "35eede20-14a5-4b1b-8052-782453396e24"
      },
      "execution_count": 22,
      "outputs": [
        {
          "output_type": "execute_result",
          "data": {
            "text/plain": [
              "   MSSubClass MSZoning  LotFrontage  LotArea Street    Alley LotShape  \\\n",
              "0          20       RH         80.0    11622   Pave  Missing      Reg   \n",
              "1          20       RL         81.0    14267   Pave  Missing      IR1   \n",
              "2          60       RL         74.0    13830   Pave  Missing      IR1   \n",
              "3          60       RL         78.0     9978   Pave  Missing      IR1   \n",
              "4         120       RL         43.0     5005   Pave  Missing      IR1   \n",
              "\n",
              "  LandContour Utilities LotConfig  ... PoolArea   PoolQC    Fence MiscFeature  \\\n",
              "0         Lvl    AllPub    Inside  ...        0  Missing    MnPrv     Missing   \n",
              "1         Lvl    AllPub    Corner  ...        0  Missing  Missing        Gar2   \n",
              "2         Lvl    AllPub    Inside  ...        0  Missing    MnPrv     Missing   \n",
              "3         Lvl    AllPub    Inside  ...        0  Missing  Missing     Missing   \n",
              "4         HLS    AllPub    Inside  ...        0  Missing  Missing     Missing   \n",
              "\n",
              "  MiscVal MoSold  YrSold  SaleType  SaleCondition  SalePrice  \n",
              "0       0      6    2010        WD         Normal   163000.0  \n",
              "1   12500      6    2010        WD         Normal   163000.0  \n",
              "2       0      3    2010        WD         Normal   163000.0  \n",
              "3       0      6    2010        WD         Normal   163000.0  \n",
              "4       0      1    2010        WD         Normal   163000.0  \n",
              "\n",
              "[5 rows x 80 columns]"
            ],
            "text/html": [
              "\n",
              "  <div id=\"df-94fd2715-888e-44f1-af10-a9cceec3754a\">\n",
              "    <div class=\"colab-df-container\">\n",
              "      <div>\n",
              "<style scoped>\n",
              "    .dataframe tbody tr th:only-of-type {\n",
              "        vertical-align: middle;\n",
              "    }\n",
              "\n",
              "    .dataframe tbody tr th {\n",
              "        vertical-align: top;\n",
              "    }\n",
              "\n",
              "    .dataframe thead th {\n",
              "        text-align: right;\n",
              "    }\n",
              "</style>\n",
              "<table border=\"1\" class=\"dataframe\">\n",
              "  <thead>\n",
              "    <tr style=\"text-align: right;\">\n",
              "      <th></th>\n",
              "      <th>MSSubClass</th>\n",
              "      <th>MSZoning</th>\n",
              "      <th>LotFrontage</th>\n",
              "      <th>LotArea</th>\n",
              "      <th>Street</th>\n",
              "      <th>Alley</th>\n",
              "      <th>LotShape</th>\n",
              "      <th>LandContour</th>\n",
              "      <th>Utilities</th>\n",
              "      <th>LotConfig</th>\n",
              "      <th>...</th>\n",
              "      <th>PoolArea</th>\n",
              "      <th>PoolQC</th>\n",
              "      <th>Fence</th>\n",
              "      <th>MiscFeature</th>\n",
              "      <th>MiscVal</th>\n",
              "      <th>MoSold</th>\n",
              "      <th>YrSold</th>\n",
              "      <th>SaleType</th>\n",
              "      <th>SaleCondition</th>\n",
              "      <th>SalePrice</th>\n",
              "    </tr>\n",
              "  </thead>\n",
              "  <tbody>\n",
              "    <tr>\n",
              "      <th>0</th>\n",
              "      <td>20</td>\n",
              "      <td>RH</td>\n",
              "      <td>80.0</td>\n",
              "      <td>11622</td>\n",
              "      <td>Pave</td>\n",
              "      <td>Missing</td>\n",
              "      <td>Reg</td>\n",
              "      <td>Lvl</td>\n",
              "      <td>AllPub</td>\n",
              "      <td>Inside</td>\n",
              "      <td>...</td>\n",
              "      <td>0</td>\n",
              "      <td>Missing</td>\n",
              "      <td>MnPrv</td>\n",
              "      <td>Missing</td>\n",
              "      <td>0</td>\n",
              "      <td>6</td>\n",
              "      <td>2010</td>\n",
              "      <td>WD</td>\n",
              "      <td>Normal</td>\n",
              "      <td>163000.0</td>\n",
              "    </tr>\n",
              "    <tr>\n",
              "      <th>1</th>\n",
              "      <td>20</td>\n",
              "      <td>RL</td>\n",
              "      <td>81.0</td>\n",
              "      <td>14267</td>\n",
              "      <td>Pave</td>\n",
              "      <td>Missing</td>\n",
              "      <td>IR1</td>\n",
              "      <td>Lvl</td>\n",
              "      <td>AllPub</td>\n",
              "      <td>Corner</td>\n",
              "      <td>...</td>\n",
              "      <td>0</td>\n",
              "      <td>Missing</td>\n",
              "      <td>Missing</td>\n",
              "      <td>Gar2</td>\n",
              "      <td>12500</td>\n",
              "      <td>6</td>\n",
              "      <td>2010</td>\n",
              "      <td>WD</td>\n",
              "      <td>Normal</td>\n",
              "      <td>163000.0</td>\n",
              "    </tr>\n",
              "    <tr>\n",
              "      <th>2</th>\n",
              "      <td>60</td>\n",
              "      <td>RL</td>\n",
              "      <td>74.0</td>\n",
              "      <td>13830</td>\n",
              "      <td>Pave</td>\n",
              "      <td>Missing</td>\n",
              "      <td>IR1</td>\n",
              "      <td>Lvl</td>\n",
              "      <td>AllPub</td>\n",
              "      <td>Inside</td>\n",
              "      <td>...</td>\n",
              "      <td>0</td>\n",
              "      <td>Missing</td>\n",
              "      <td>MnPrv</td>\n",
              "      <td>Missing</td>\n",
              "      <td>0</td>\n",
              "      <td>3</td>\n",
              "      <td>2010</td>\n",
              "      <td>WD</td>\n",
              "      <td>Normal</td>\n",
              "      <td>163000.0</td>\n",
              "    </tr>\n",
              "    <tr>\n",
              "      <th>3</th>\n",
              "      <td>60</td>\n",
              "      <td>RL</td>\n",
              "      <td>78.0</td>\n",
              "      <td>9978</td>\n",
              "      <td>Pave</td>\n",
              "      <td>Missing</td>\n",
              "      <td>IR1</td>\n",
              "      <td>Lvl</td>\n",
              "      <td>AllPub</td>\n",
              "      <td>Inside</td>\n",
              "      <td>...</td>\n",
              "      <td>0</td>\n",
              "      <td>Missing</td>\n",
              "      <td>Missing</td>\n",
              "      <td>Missing</td>\n",
              "      <td>0</td>\n",
              "      <td>6</td>\n",
              "      <td>2010</td>\n",
              "      <td>WD</td>\n",
              "      <td>Normal</td>\n",
              "      <td>163000.0</td>\n",
              "    </tr>\n",
              "    <tr>\n",
              "      <th>4</th>\n",
              "      <td>120</td>\n",
              "      <td>RL</td>\n",
              "      <td>43.0</td>\n",
              "      <td>5005</td>\n",
              "      <td>Pave</td>\n",
              "      <td>Missing</td>\n",
              "      <td>IR1</td>\n",
              "      <td>HLS</td>\n",
              "      <td>AllPub</td>\n",
              "      <td>Inside</td>\n",
              "      <td>...</td>\n",
              "      <td>0</td>\n",
              "      <td>Missing</td>\n",
              "      <td>Missing</td>\n",
              "      <td>Missing</td>\n",
              "      <td>0</td>\n",
              "      <td>1</td>\n",
              "      <td>2010</td>\n",
              "      <td>WD</td>\n",
              "      <td>Normal</td>\n",
              "      <td>163000.0</td>\n",
              "    </tr>\n",
              "  </tbody>\n",
              "</table>\n",
              "<p>5 rows × 80 columns</p>\n",
              "</div>\n",
              "      <button class=\"colab-df-convert\" onclick=\"convertToInteractive('df-94fd2715-888e-44f1-af10-a9cceec3754a')\"\n",
              "              title=\"Convert this dataframe to an interactive table.\"\n",
              "              style=\"display:none;\">\n",
              "        \n",
              "  <svg xmlns=\"http://www.w3.org/2000/svg\" height=\"24px\"viewBox=\"0 0 24 24\"\n",
              "       width=\"24px\">\n",
              "    <path d=\"M0 0h24v24H0V0z\" fill=\"none\"/>\n",
              "    <path d=\"M18.56 5.44l.94 2.06.94-2.06 2.06-.94-2.06-.94-.94-2.06-.94 2.06-2.06.94zm-11 1L8.5 8.5l.94-2.06 2.06-.94-2.06-.94L8.5 2.5l-.94 2.06-2.06.94zm10 10l.94 2.06.94-2.06 2.06-.94-2.06-.94-.94-2.06-.94 2.06-2.06.94z\"/><path d=\"M17.41 7.96l-1.37-1.37c-.4-.4-.92-.59-1.43-.59-.52 0-1.04.2-1.43.59L10.3 9.45l-7.72 7.72c-.78.78-.78 2.05 0 2.83L4 21.41c.39.39.9.59 1.41.59.51 0 1.02-.2 1.41-.59l7.78-7.78 2.81-2.81c.8-.78.8-2.07 0-2.86zM5.41 20L4 18.59l7.72-7.72 1.47 1.35L5.41 20z\"/>\n",
              "  </svg>\n",
              "      </button>\n",
              "      \n",
              "  <style>\n",
              "    .colab-df-container {\n",
              "      display:flex;\n",
              "      flex-wrap:wrap;\n",
              "      gap: 12px;\n",
              "    }\n",
              "\n",
              "    .colab-df-convert {\n",
              "      background-color: #E8F0FE;\n",
              "      border: none;\n",
              "      border-radius: 50%;\n",
              "      cursor: pointer;\n",
              "      display: none;\n",
              "      fill: #1967D2;\n",
              "      height: 32px;\n",
              "      padding: 0 0 0 0;\n",
              "      width: 32px;\n",
              "    }\n",
              "\n",
              "    .colab-df-convert:hover {\n",
              "      background-color: #E2EBFA;\n",
              "      box-shadow: 0px 1px 2px rgba(60, 64, 67, 0.3), 0px 1px 3px 1px rgba(60, 64, 67, 0.15);\n",
              "      fill: #174EA6;\n",
              "    }\n",
              "\n",
              "    [theme=dark] .colab-df-convert {\n",
              "      background-color: #3B4455;\n",
              "      fill: #D2E3FC;\n",
              "    }\n",
              "\n",
              "    [theme=dark] .colab-df-convert:hover {\n",
              "      background-color: #434B5C;\n",
              "      box-shadow: 0px 1px 3px 1px rgba(0, 0, 0, 0.15);\n",
              "      filter: drop-shadow(0px 1px 2px rgba(0, 0, 0, 0.3));\n",
              "      fill: #FFFFFF;\n",
              "    }\n",
              "  </style>\n",
              "\n",
              "      <script>\n",
              "        const buttonEl =\n",
              "          document.querySelector('#df-94fd2715-888e-44f1-af10-a9cceec3754a button.colab-df-convert');\n",
              "        buttonEl.style.display =\n",
              "          google.colab.kernel.accessAllowed ? 'block' : 'none';\n",
              "\n",
              "        async function convertToInteractive(key) {\n",
              "          const element = document.querySelector('#df-94fd2715-888e-44f1-af10-a9cceec3754a');\n",
              "          const dataTable =\n",
              "            await google.colab.kernel.invokeFunction('convertToInteractive',\n",
              "                                                     [key], {});\n",
              "          if (!dataTable) return;\n",
              "\n",
              "          const docLinkHtml = 'Like what you see? Visit the ' +\n",
              "            '<a target=\"_blank\" href=https://colab.research.google.com/notebooks/data_table.ipynb>data table notebook</a>'\n",
              "            + ' to learn more about interactive tables.';\n",
              "          element.innerHTML = '';\n",
              "          dataTable['output_type'] = 'display_data';\n",
              "          await google.colab.output.renderOutput(dataTable, element);\n",
              "          const docLink = document.createElement('div');\n",
              "          docLink.innerHTML = docLinkHtml;\n",
              "          element.appendChild(docLink);\n",
              "        }\n",
              "      </script>\n",
              "    </div>\n",
              "  </div>\n",
              "  "
            ]
          },
          "metadata": {},
          "execution_count": 22
        }
      ]
    },
    {
      "cell_type": "code",
      "source": [
        "data = data.dropna(subset=['SalePrice'])\n",
        "\n",
        "#elimino observaciones sin precio"
      ],
      "metadata": {
        "id": "9ddRjbKiEiyH"
      },
      "execution_count": 201,
      "outputs": []
    },
    {
      "cell_type": "code",
      "source": [
        "y = data.loc[:, 'SalePrice'].values\n",
        "y.shape\n"
      ],
      "metadata": {
        "colab": {
          "base_uri": "https://localhost:8080/"
        },
        "id": "CyKBBCucBl5D",
        "outputId": "ad761e5a-44be-4cb5-8f73-40f420743cb1"
      },
      "execution_count": 202,
      "outputs": [
        {
          "output_type": "execute_result",
          "data": {
            "text/plain": [
              "(2919,)"
            ]
          },
          "metadata": {},
          "execution_count": 202
        }
      ]
    },
    {
      "cell_type": "code",
      "source": [
        "X = data.loc[:, ['LotShape', 'Street', 'Neighborhood', 'HouseStyle', 'RoofStyle', 'SaleCondition','LotArea', 'MSSubClass', 'YearBuilt', 'GrLivArea']]\n",
        "X.shape"
      ],
      "metadata": {
        "colab": {
          "base_uri": "https://localhost:8080/"
        },
        "id": "CBnIxZtQDh6d",
        "outputId": "dfcf44fd-9424-4d2f-ad09-7a93c72575e2"
      },
      "execution_count": 203,
      "outputs": [
        {
          "output_type": "execute_result",
          "data": {
            "text/plain": [
              "(2919, 10)"
            ]
          },
          "metadata": {},
          "execution_count": 203
        }
      ]
    },
    {
      "cell_type": "code",
      "source": [
        "X = pd.get_dummies(X)\n",
        "X.shape"
      ],
      "metadata": {
        "colab": {
          "base_uri": "https://localhost:8080/"
        },
        "id": "buoIBRFHD2bh",
        "outputId": "81e574c0-c343-44ce-9ba8-c8e0a9bc3935"
      },
      "execution_count": 204,
      "outputs": [
        {
          "output_type": "execute_result",
          "data": {
            "text/plain": [
              "(2919, 55)"
            ]
          },
          "metadata": {},
          "execution_count": 204
        }
      ]
    },
    {
      "cell_type": "code",
      "source": [
        "X_train, X_test, y_train, y_test = train_test_split(X, y, random_state=3)"
      ],
      "metadata": {
        "id": "tku5H9BUGv6N"
      },
      "execution_count": 205,
      "outputs": []
    },
    {
      "cell_type": "code",
      "source": [
        "print(X_test.shape)\n",
        "print(y_test.shape)\n",
        "print(X_train.shape)\n",
        "print(y_train.shape)"
      ],
      "metadata": {
        "colab": {
          "base_uri": "https://localhost:8080/"
        },
        "id": "GnBZyco3MiVs",
        "outputId": "d9929fc3-0266-48b9-d6d3-15bbb95e775d"
      },
      "execution_count": 206,
      "outputs": [
        {
          "output_type": "stream",
          "name": "stdout",
          "text": [
            "(730, 55)\n",
            "(730,)\n",
            "(2189, 55)\n",
            "(2189,)\n"
          ]
        }
      ]
    },
    {
      "cell_type": "code",
      "source": [
        "# Escalar datos\n",
        "scaler = StandardScaler()\n",
        "X_train_scaled = scaler.fit_transform(X_train)\n",
        "X_test_scaled = scaler.transform(X_test)"
      ],
      "metadata": {
        "id": "AYtGIE9FHEPD"
      },
      "execution_count": 163,
      "outputs": []
    },
    {
      "cell_type": "code",
      "source": [
        "from xgboost import XGBRegressor"
      ],
      "metadata": {
        "id": "7jVevdgkHXSQ"
      },
      "execution_count": 164,
      "outputs": []
    },
    {
      "cell_type": "code",
      "source": [
        "# Instanciar y ajustar clasificador de potenciación de gradiente\n",
        "xgb = XGBRegressor()\n",
        "xgb.fit(X_train, y_train)"
      ],
      "metadata": {
        "colab": {
          "base_uri": "https://localhost:8080/"
        },
        "id": "kz-fOXrQHrXl",
        "outputId": "e8e87c4d-14a3-44f5-c948-a03defb87515"
      },
      "execution_count": 165,
      "outputs": [
        {
          "output_type": "stream",
          "name": "stdout",
          "text": [
            "[06:54:19] WARNING: /workspace/src/objective/regression_obj.cu:152: reg:linear is now deprecated in favor of reg:squarederror.\n"
          ]
        },
        {
          "output_type": "execute_result",
          "data": {
            "text/plain": [
              "XGBRegressor()"
            ]
          },
          "metadata": {},
          "execution_count": 165
        }
      ]
    },
    {
      "cell_type": "code",
      "source": [
        "print('Training accuracy:', xgb.score(X_train, y_train))\n",
        "print('Testing accuracy:', xgb.score(X_test, y_test))"
      ],
      "metadata": {
        "colab": {
          "base_uri": "https://localhost:8080/"
        },
        "id": "0ypSJX0_HxW6",
        "outputId": "0a75c02a-fec2-4e84-e297-2c633bfaddf0"
      },
      "execution_count": 166,
      "outputs": [
        {
          "output_type": "stream",
          "name": "stdout",
          "text": [
            "Training accuracy: 0.6168417202369032\n",
            "Testing accuracy: 0.3530636320361955\n"
          ]
        }
      ]
    },
    {
      "cell_type": "code",
      "source": [
        "preds = xgb.predict(X)\n",
        "preds"
      ],
      "metadata": {
        "colab": {
          "base_uri": "https://localhost:8080/"
        },
        "id": "0IH9XRKAJfWa",
        "outputId": "bcb218f3-fc7d-4cca-cb5e-fe652f9c4566"
      },
      "execution_count": 213,
      "outputs": [
        {
          "output_type": "execute_result",
          "data": {
            "text/plain": [
              "array([145519.69, 163998.66, 186215.56, ..., 168950.47, 140997.39,\n",
              "       152173.75], dtype=float32)"
            ]
          },
          "metadata": {},
          "execution_count": 213
        }
      ]
    },
    {
      "cell_type": "code",
      "source": [
        "to_submit = pd.DataFrame({'Id':data['Id'], 'SalePrice': preds})\n",
        "to_submit = to_submit.head(1459)\n",
        "to_submit"
      ],
      "metadata": {
        "colab": {
          "base_uri": "https://localhost:8080/",
          "height": 419
        },
        "id": "mTdHuybHKFCr",
        "outputId": "e28b407b-449c-425a-e89e-3333fae2e013"
      },
      "execution_count": 218,
      "outputs": [
        {
          "output_type": "execute_result",
          "data": {
            "text/plain": [
              "        Id      SalePrice\n",
              "0     1461  145519.687500\n",
              "1     1462  163998.656250\n",
              "2     1463  186215.562500\n",
              "3     1464  174350.234375\n",
              "4     1465  171127.000000\n",
              "...    ...            ...\n",
              "1454  2915  143852.984375\n",
              "1455  2916  141668.046875\n",
              "1456  2917  156014.718750\n",
              "1457  2918  164856.609375\n",
              "1458  2919  208882.437500\n",
              "\n",
              "[1459 rows x 2 columns]"
            ],
            "text/html": [
              "\n",
              "  <div id=\"df-ac03b23d-ffac-4493-86af-bbe9027946b7\">\n",
              "    <div class=\"colab-df-container\">\n",
              "      <div>\n",
              "<style scoped>\n",
              "    .dataframe tbody tr th:only-of-type {\n",
              "        vertical-align: middle;\n",
              "    }\n",
              "\n",
              "    .dataframe tbody tr th {\n",
              "        vertical-align: top;\n",
              "    }\n",
              "\n",
              "    .dataframe thead th {\n",
              "        text-align: right;\n",
              "    }\n",
              "</style>\n",
              "<table border=\"1\" class=\"dataframe\">\n",
              "  <thead>\n",
              "    <tr style=\"text-align: right;\">\n",
              "      <th></th>\n",
              "      <th>Id</th>\n",
              "      <th>SalePrice</th>\n",
              "    </tr>\n",
              "  </thead>\n",
              "  <tbody>\n",
              "    <tr>\n",
              "      <th>0</th>\n",
              "      <td>1461</td>\n",
              "      <td>145519.687500</td>\n",
              "    </tr>\n",
              "    <tr>\n",
              "      <th>1</th>\n",
              "      <td>1462</td>\n",
              "      <td>163998.656250</td>\n",
              "    </tr>\n",
              "    <tr>\n",
              "      <th>2</th>\n",
              "      <td>1463</td>\n",
              "      <td>186215.562500</td>\n",
              "    </tr>\n",
              "    <tr>\n",
              "      <th>3</th>\n",
              "      <td>1464</td>\n",
              "      <td>174350.234375</td>\n",
              "    </tr>\n",
              "    <tr>\n",
              "      <th>4</th>\n",
              "      <td>1465</td>\n",
              "      <td>171127.000000</td>\n",
              "    </tr>\n",
              "    <tr>\n",
              "      <th>...</th>\n",
              "      <td>...</td>\n",
              "      <td>...</td>\n",
              "    </tr>\n",
              "    <tr>\n",
              "      <th>1454</th>\n",
              "      <td>2915</td>\n",
              "      <td>143852.984375</td>\n",
              "    </tr>\n",
              "    <tr>\n",
              "      <th>1455</th>\n",
              "      <td>2916</td>\n",
              "      <td>141668.046875</td>\n",
              "    </tr>\n",
              "    <tr>\n",
              "      <th>1456</th>\n",
              "      <td>2917</td>\n",
              "      <td>156014.718750</td>\n",
              "    </tr>\n",
              "    <tr>\n",
              "      <th>1457</th>\n",
              "      <td>2918</td>\n",
              "      <td>164856.609375</td>\n",
              "    </tr>\n",
              "    <tr>\n",
              "      <th>1458</th>\n",
              "      <td>2919</td>\n",
              "      <td>208882.437500</td>\n",
              "    </tr>\n",
              "  </tbody>\n",
              "</table>\n",
              "<p>1459 rows × 2 columns</p>\n",
              "</div>\n",
              "      <button class=\"colab-df-convert\" onclick=\"convertToInteractive('df-ac03b23d-ffac-4493-86af-bbe9027946b7')\"\n",
              "              title=\"Convert this dataframe to an interactive table.\"\n",
              "              style=\"display:none;\">\n",
              "        \n",
              "  <svg xmlns=\"http://www.w3.org/2000/svg\" height=\"24px\"viewBox=\"0 0 24 24\"\n",
              "       width=\"24px\">\n",
              "    <path d=\"M0 0h24v24H0V0z\" fill=\"none\"/>\n",
              "    <path d=\"M18.56 5.44l.94 2.06.94-2.06 2.06-.94-2.06-.94-.94-2.06-.94 2.06-2.06.94zm-11 1L8.5 8.5l.94-2.06 2.06-.94-2.06-.94L8.5 2.5l-.94 2.06-2.06.94zm10 10l.94 2.06.94-2.06 2.06-.94-2.06-.94-.94-2.06-.94 2.06-2.06.94z\"/><path d=\"M17.41 7.96l-1.37-1.37c-.4-.4-.92-.59-1.43-.59-.52 0-1.04.2-1.43.59L10.3 9.45l-7.72 7.72c-.78.78-.78 2.05 0 2.83L4 21.41c.39.39.9.59 1.41.59.51 0 1.02-.2 1.41-.59l7.78-7.78 2.81-2.81c.8-.78.8-2.07 0-2.86zM5.41 20L4 18.59l7.72-7.72 1.47 1.35L5.41 20z\"/>\n",
              "  </svg>\n",
              "      </button>\n",
              "      \n",
              "  <style>\n",
              "    .colab-df-container {\n",
              "      display:flex;\n",
              "      flex-wrap:wrap;\n",
              "      gap: 12px;\n",
              "    }\n",
              "\n",
              "    .colab-df-convert {\n",
              "      background-color: #E8F0FE;\n",
              "      border: none;\n",
              "      border-radius: 50%;\n",
              "      cursor: pointer;\n",
              "      display: none;\n",
              "      fill: #1967D2;\n",
              "      height: 32px;\n",
              "      padding: 0 0 0 0;\n",
              "      width: 32px;\n",
              "    }\n",
              "\n",
              "    .colab-df-convert:hover {\n",
              "      background-color: #E2EBFA;\n",
              "      box-shadow: 0px 1px 2px rgba(60, 64, 67, 0.3), 0px 1px 3px 1px rgba(60, 64, 67, 0.15);\n",
              "      fill: #174EA6;\n",
              "    }\n",
              "\n",
              "    [theme=dark] .colab-df-convert {\n",
              "      background-color: #3B4455;\n",
              "      fill: #D2E3FC;\n",
              "    }\n",
              "\n",
              "    [theme=dark] .colab-df-convert:hover {\n",
              "      background-color: #434B5C;\n",
              "      box-shadow: 0px 1px 3px 1px rgba(0, 0, 0, 0.15);\n",
              "      filter: drop-shadow(0px 1px 2px rgba(0, 0, 0, 0.3));\n",
              "      fill: #FFFFFF;\n",
              "    }\n",
              "  </style>\n",
              "\n",
              "      <script>\n",
              "        const buttonEl =\n",
              "          document.querySelector('#df-ac03b23d-ffac-4493-86af-bbe9027946b7 button.colab-df-convert');\n",
              "        buttonEl.style.display =\n",
              "          google.colab.kernel.accessAllowed ? 'block' : 'none';\n",
              "\n",
              "        async function convertToInteractive(key) {\n",
              "          const element = document.querySelector('#df-ac03b23d-ffac-4493-86af-bbe9027946b7');\n",
              "          const dataTable =\n",
              "            await google.colab.kernel.invokeFunction('convertToInteractive',\n",
              "                                                     [key], {});\n",
              "          if (!dataTable) return;\n",
              "\n",
              "          const docLinkHtml = 'Like what you see? Visit the ' +\n",
              "            '<a target=\"_blank\" href=https://colab.research.google.com/notebooks/data_table.ipynb>data table notebook</a>'\n",
              "            + ' to learn more about interactive tables.';\n",
              "          element.innerHTML = '';\n",
              "          dataTable['output_type'] = 'display_data';\n",
              "          await google.colab.output.renderOutput(dataTable, element);\n",
              "          const docLink = document.createElement('div');\n",
              "          docLink.innerHTML = docLinkHtml;\n",
              "          element.appendChild(docLink);\n",
              "        }\n",
              "      </script>\n",
              "    </div>\n",
              "  </div>\n",
              "  "
            ]
          },
          "metadata": {},
          "execution_count": 218
        }
      ]
    },
    {
      "cell_type": "code",
      "source": [
        "to_submit.to_csv('/content/drive/MyDrive/CODING_DOJO/Week_10/submission.csv',index=False)"
      ],
      "metadata": {
        "id": "yevRb9cLNN2l"
      },
      "execution_count": 219,
      "outputs": []
    },
    {
      "cell_type": "markdown",
      "source": [
        "![Captura de Pantalla 2022-04-03 a la(s) 02.17.56.png](data:image/png;base64,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)"
      ],
      "metadata": {
        "id": "TGoU8qKiSdjG"
      }
    }
  ]
}