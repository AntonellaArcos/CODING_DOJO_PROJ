{
  "nbformat": 4,
  "nbformat_minor": 0,
  "metadata": {
    "colab": {
      "name": "histograms.ipynb",
      "provenance": []
    },
    "kernelspec": {
      "name": "python3",
      "display_name": "Python 3"
    },
    "language_info": {
      "name": "python"
    }
  },
  "cells": [
    {
      "cell_type": "markdown",
      "source": [
        "#**Ejercicio de Histogramas y Diagramas de caja**\n",
        "###1. Traza un histograma del porcentaje de poseedores de perros.\n",
        "\n",
        "###2. Traza un histograma del porcentaje de poseedores de gatos.\n",
        "\n",
        "###3a. ¿Qué podemos ver al comparar estos dos histogramas? ¿Qué información nos da?\n",
        "###4. Crea dos diagramas de caja en el mismo plot: uno con el número medio de gatos por hogar y el otro, del número medio de perros. Más abajo, un ejemplo de cómo podría lucir:"
      ],
      "metadata": {
        "id": "gY2yQb3mOKAt"
      }
    },
    {
      "cell_type": "code",
      "execution_count": 1,
      "metadata": {
        "colab": {
          "base_uri": "https://localhost:8080/"
        },
        "id": "6Tv-4gUSM6K4",
        "outputId": "1ca34502-a95d-4f10-d798-6c9ce41475bc"
      },
      "outputs": [
        {
          "output_type": "stream",
          "name": "stdout",
          "text": [
            "Mounted at /content/drive\n"
          ]
        }
      ],
      "source": [
        "# Importar una librería\n",
        "from google.colab import drive\n",
        "drive.mount('/content/drive')"
      ]
    },
    {
      "cell_type": "code",
      "source": [
        "#Importar librerias\n",
        "import matplotlib.pyplot as plt\n",
        "import seaborn as sns\n",
        "import pandas as pd\n",
        "import numpy as np"
      ],
      "metadata": {
        "id": "XnbDkCfbM8OP"
      },
      "execution_count": 5,
      "outputs": []
    },
    {
      "cell_type": "code",
      "source": [
        "df = pd.read_excel('/content/drive/MyDrive/CODING_DOJO/Week_4/catsvdogs.xlsx')\n",
        "df.head()"
      ],
      "metadata": {
        "colab": {
          "base_uri": "https://localhost:8080/",
          "height": 294
        },
        "id": "O24AiMEwNE4m",
        "outputId": "20b43f0b-8e6f-41b2-a4ab-5043aa2c137a"
      },
      "execution_count": 4,
      "outputs": [
        {
          "output_type": "execute_result",
          "data": {
            "text/html": [
              "\n",
              "  <div id=\"df-dc901e3e-4c07-4267-8527-0508c83b2789\">\n",
              "    <div class=\"colab-df-container\">\n",
              "      <div>\n",
              "<style scoped>\n",
              "    .dataframe tbody tr th:only-of-type {\n",
              "        vertical-align: middle;\n",
              "    }\n",
              "\n",
              "    .dataframe tbody tr th {\n",
              "        vertical-align: top;\n",
              "    }\n",
              "\n",
              "    .dataframe thead th {\n",
              "        text-align: right;\n",
              "    }\n",
              "</style>\n",
              "<table border=\"1\" class=\"dataframe\">\n",
              "  <thead>\n",
              "    <tr style=\"text-align: right;\">\n",
              "      <th></th>\n",
              "      <th>Location</th>\n",
              "      <th>Number of Households (in 1000)</th>\n",
              "      <th>Percentage of households with pets</th>\n",
              "      <th>Number of Pet Households (in 1000)</th>\n",
              "      <th>Percentage of Dog Owners</th>\n",
              "      <th>Dog Owning Households (1000s)</th>\n",
              "      <th>Mean Number of Dogs per household</th>\n",
              "      <th>Dog Population (in 1000)</th>\n",
              "      <th>Percentage of Cat Owners</th>\n",
              "      <th>Cat Owning Households</th>\n",
              "      <th>Mean Number of Cats</th>\n",
              "      <th>Cat Population</th>\n",
              "    </tr>\n",
              "  </thead>\n",
              "  <tbody>\n",
              "    <tr>\n",
              "      <th>0</th>\n",
              "      <td>Alabama</td>\n",
              "      <td>1828</td>\n",
              "      <td>59.5</td>\n",
              "      <td>1088</td>\n",
              "      <td>44.1</td>\n",
              "      <td>807</td>\n",
              "      <td>1.7</td>\n",
              "      <td>1410</td>\n",
              "      <td>27.4</td>\n",
              "      <td>501</td>\n",
              "      <td>2.5</td>\n",
              "      <td>1252</td>\n",
              "    </tr>\n",
              "    <tr>\n",
              "      <th>1</th>\n",
              "      <td>Arizona</td>\n",
              "      <td>2515</td>\n",
              "      <td>59.5</td>\n",
              "      <td>1497</td>\n",
              "      <td>40.1</td>\n",
              "      <td>1008</td>\n",
              "      <td>1.8</td>\n",
              "      <td>1798</td>\n",
              "      <td>29.6</td>\n",
              "      <td>743</td>\n",
              "      <td>1.9</td>\n",
              "      <td>1438</td>\n",
              "    </tr>\n",
              "    <tr>\n",
              "      <th>2</th>\n",
              "      <td>Arkansas</td>\n",
              "      <td>1148</td>\n",
              "      <td>62.4</td>\n",
              "      <td>716</td>\n",
              "      <td>47.9</td>\n",
              "      <td>550</td>\n",
              "      <td>2.0</td>\n",
              "      <td>1097</td>\n",
              "      <td>30.6</td>\n",
              "      <td>351</td>\n",
              "      <td>2.3</td>\n",
              "      <td>810</td>\n",
              "    </tr>\n",
              "    <tr>\n",
              "      <th>3</th>\n",
              "      <td>California</td>\n",
              "      <td>12974</td>\n",
              "      <td>52.9</td>\n",
              "      <td>6865</td>\n",
              "      <td>32.8</td>\n",
              "      <td>4260</td>\n",
              "      <td>1.6</td>\n",
              "      <td>6687</td>\n",
              "      <td>28.3</td>\n",
              "      <td>3687</td>\n",
              "      <td>1.9</td>\n",
              "      <td>7118</td>\n",
              "    </tr>\n",
              "    <tr>\n",
              "      <th>4</th>\n",
              "      <td>Colorado</td>\n",
              "      <td>1986</td>\n",
              "      <td>61.3</td>\n",
              "      <td>1217</td>\n",
              "      <td>42.5</td>\n",
              "      <td>845</td>\n",
              "      <td>1.6</td>\n",
              "      <td>1349</td>\n",
              "      <td>32.3</td>\n",
              "      <td>642</td>\n",
              "      <td>1.9</td>\n",
              "      <td>1191</td>\n",
              "    </tr>\n",
              "  </tbody>\n",
              "</table>\n",
              "</div>\n",
              "      <button class=\"colab-df-convert\" onclick=\"convertToInteractive('df-dc901e3e-4c07-4267-8527-0508c83b2789')\"\n",
              "              title=\"Convert this dataframe to an interactive table.\"\n",
              "              style=\"display:none;\">\n",
              "        \n",
              "  <svg xmlns=\"http://www.w3.org/2000/svg\" height=\"24px\"viewBox=\"0 0 24 24\"\n",
              "       width=\"24px\">\n",
              "    <path d=\"M0 0h24v24H0V0z\" fill=\"none\"/>\n",
              "    <path d=\"M18.56 5.44l.94 2.06.94-2.06 2.06-.94-2.06-.94-.94-2.06-.94 2.06-2.06.94zm-11 1L8.5 8.5l.94-2.06 2.06-.94-2.06-.94L8.5 2.5l-.94 2.06-2.06.94zm10 10l.94 2.06.94-2.06 2.06-.94-2.06-.94-.94-2.06-.94 2.06-2.06.94z\"/><path d=\"M17.41 7.96l-1.37-1.37c-.4-.4-.92-.59-1.43-.59-.52 0-1.04.2-1.43.59L10.3 9.45l-7.72 7.72c-.78.78-.78 2.05 0 2.83L4 21.41c.39.39.9.59 1.41.59.51 0 1.02-.2 1.41-.59l7.78-7.78 2.81-2.81c.8-.78.8-2.07 0-2.86zM5.41 20L4 18.59l7.72-7.72 1.47 1.35L5.41 20z\"/>\n",
              "  </svg>\n",
              "      </button>\n",
              "      \n",
              "  <style>\n",
              "    .colab-df-container {\n",
              "      display:flex;\n",
              "      flex-wrap:wrap;\n",
              "      gap: 12px;\n",
              "    }\n",
              "\n",
              "    .colab-df-convert {\n",
              "      background-color: #E8F0FE;\n",
              "      border: none;\n",
              "      border-radius: 50%;\n",
              "      cursor: pointer;\n",
              "      display: none;\n",
              "      fill: #1967D2;\n",
              "      height: 32px;\n",
              "      padding: 0 0 0 0;\n",
              "      width: 32px;\n",
              "    }\n",
              "\n",
              "    .colab-df-convert:hover {\n",
              "      background-color: #E2EBFA;\n",
              "      box-shadow: 0px 1px 2px rgba(60, 64, 67, 0.3), 0px 1px 3px 1px rgba(60, 64, 67, 0.15);\n",
              "      fill: #174EA6;\n",
              "    }\n",
              "\n",
              "    [theme=dark] .colab-df-convert {\n",
              "      background-color: #3B4455;\n",
              "      fill: #D2E3FC;\n",
              "    }\n",
              "\n",
              "    [theme=dark] .colab-df-convert:hover {\n",
              "      background-color: #434B5C;\n",
              "      box-shadow: 0px 1px 3px 1px rgba(0, 0, 0, 0.15);\n",
              "      filter: drop-shadow(0px 1px 2px rgba(0, 0, 0, 0.3));\n",
              "      fill: #FFFFFF;\n",
              "    }\n",
              "  </style>\n",
              "\n",
              "      <script>\n",
              "        const buttonEl =\n",
              "          document.querySelector('#df-dc901e3e-4c07-4267-8527-0508c83b2789 button.colab-df-convert');\n",
              "        buttonEl.style.display =\n",
              "          google.colab.kernel.accessAllowed ? 'block' : 'none';\n",
              "\n",
              "        async function convertToInteractive(key) {\n",
              "          const element = document.querySelector('#df-dc901e3e-4c07-4267-8527-0508c83b2789');\n",
              "          const dataTable =\n",
              "            await google.colab.kernel.invokeFunction('convertToInteractive',\n",
              "                                                     [key], {});\n",
              "          if (!dataTable) return;\n",
              "\n",
              "          const docLinkHtml = 'Like what you see? Visit the ' +\n",
              "            '<a target=\"_blank\" href=https://colab.research.google.com/notebooks/data_table.ipynb>data table notebook</a>'\n",
              "            + ' to learn more about interactive tables.';\n",
              "          element.innerHTML = '';\n",
              "          dataTable['output_type'] = 'display_data';\n",
              "          await google.colab.output.renderOutput(dataTable, element);\n",
              "          const docLink = document.createElement('div');\n",
              "          docLink.innerHTML = docLinkHtml;\n",
              "          element.appendChild(docLink);\n",
              "        }\n",
              "      </script>\n",
              "    </div>\n",
              "  </div>\n",
              "  "
            ],
            "text/plain": [
              "     Location  ...  Cat Population\n",
              "0     Alabama  ...            1252\n",
              "1     Arizona  ...            1438\n",
              "2    Arkansas  ...             810\n",
              "3  California  ...            7118\n",
              "4    Colorado  ...            1191\n",
              "\n",
              "[5 rows x 12 columns]"
            ]
          },
          "metadata": {},
          "execution_count": 4
        }
      ]
    },
    {
      "cell_type": "code",
      "source": [
        "#1. Traza un histograma del porcentaje de poseedores de perros.\n",
        "plt.style.use('seaborn')\n",
        "df['Percentage of Dog Owners'].hist(bins = 10, alpha=0.5, edgecolor='black')\n"
      ],
      "metadata": {
        "colab": {
          "base_uri": "https://localhost:8080/",
          "height": 363
        },
        "id": "Y9jfIV9YNYVi",
        "outputId": "a1ad2bdc-1e0c-46cd-e923-ccdeda9dc9e4"
      },
      "execution_count": 28,
      "outputs": [
        {
          "output_type": "execute_result",
          "data": {
            "text/plain": [
              "<matplotlib.axes._subplots.AxesSubplot at 0x7fcff4e27ad0>"
            ]
          },
          "metadata": {},
          "execution_count": 28
        },
        {
          "output_type": "display_data",
          "data": {
            "image/png": "[encoded data removed]",
            "text/plain": [
              "<Figure size 576x396 with 1 Axes>"
            ]
          },
          "metadata": {}
        }
      ]
    },
    {
      "cell_type": "code",
      "source": [
        "#2.Traza un histograma del porcentaje de poseedores de gatos.\n",
        "plt.style.use('seaborn')\n",
        "df['Percentage of Cat Owners'].hist(bins = 10, alpha=0.5, edgecolor='black')"
      ],
      "metadata": {
        "colab": {
          "base_uri": "https://localhost:8080/",
          "height": 363
        },
        "id": "lO3DkIlaOtOS",
        "outputId": "8dd95f72-c564-4cf8-f01b-382f3a002edf"
      },
      "execution_count": 27,
      "outputs": [
        {
          "output_type": "execute_result",
          "data": {
            "text/plain": [
              "<matplotlib.axes._subplots.AxesSubplot at 0x7fcff4ea1850>"
            ]
          },
          "metadata": {},
          "execution_count": 27
        },
        {
          "output_type": "display_data",
          "data": {
            "image/png": "[encoded data removed]",
            "text/plain": [
              "<Figure size 576x396 with 1 Axes>"
            ]
          },
          "metadata": {}
        }
      ]
    },
    {
      "cell_type": "code",
      "source": [
        "#3a. Hay más lugares con mayor porcentaje de personas con perros que con gatos.\n",
        "#Los lugares con mayor porcentaje de personascon gatos tiene mayor porcentaje \n",
        "#de personas con perros que los lugares con mayor porcentaje de personas con perros (el\n",
        "#top 2 de personas con gatos es mayor al top 2 de personas con perros)"
      ],
      "metadata": {
        "id": "wcB0iuQogRrM"
      },
      "execution_count": null,
      "outputs": []
    },
    {
      "cell_type": "code",
      "source": [
        "#3b.\n",
        "plt.hist(df['Percentage of Dog Owners'], alpha=0.5, bins=10, edgecolor='black')\n",
        "plt.hist(df['Percentage of Cat Owners'], alpha=0.5, bins=10, edgecolor='black')\n"
      ],
      "metadata": {
        "colab": {
          "base_uri": "https://localhost:8080/",
          "height": 412
        },
        "id": "jXZW6-U0NrAA",
        "outputId": "d75fa0e6-b6f0-4b54-d7e2-c507afb8fb5d"
      },
      "execution_count": 26,
      "outputs": [
        {
          "output_type": "execute_result",
          "data": {
            "text/plain": [
              "(array([ 1.,  0.,  0.,  4., 17., 18.,  4.,  3.,  0.,  2.]),\n",
              " array([11.6 , 15.39, 19.18, 22.97, 26.76, 30.55, 34.34, 38.13, 41.92,\n",
              "        45.71, 49.5 ]),\n",
              " <a list of 10 Patch objects>)"
            ]
          },
          "metadata": {},
          "execution_count": 26
        },
        {
          "output_type": "display_data",
          "data": {
            "image/png": "[encoded data removed]",
            "text/plain": [
              "<Figure size 576x396 with 1 Axes>"
            ]
          },
          "metadata": {}
        }
      ]
    },
    {
      "cell_type": "code",
      "source": [
        "#4. Crea dos diagramas de caja en el mismo plot: uno con el número medio de gatos por hogar\n",
        "# y el otro, del número medio de perros. Más abajo, un ejemplo de cómo podría lucir:\n",
        "plt.style.use('seaborn')\n",
        "dogs = df['Mean Number of Dogs per household'].values\n",
        "cats = df['Mean Number of Cats'].values\n",
        "plt.boxplot([dogs,cats], labels=['Dogs', 'Cats']);\n",
        "#En general el número medio de gatos es mayor que el valor medio de perros por hogar, dado que la casa está más arriba\n",
        "#La mediana de gatos por hogar es mayor que la mediana de perros en los estados de US.\n",
        "#En el caso de los perros, el valor de Q1 es 14, y el valor de Q3 es 17. Esto quiere decir\n",
        "#que el 50% central de la variable oscila entre las puntuaciones 14 y 17.\n",
        "#En el caso de los gatos, el valor de Q1 es 19, y el valor de Q3 es 22. Esto quiere decir\n",
        "#que el 50% central de la variable oscila entre las puntuaciones 19 y 22.\n",
        "#En ambos casos el rango intercualtil es 3 (17-14= 3 en el caso de los perros y 22-19=3 en el caso de los gatos)\n",
        "#En el caso de los perros vemos los valores minimos son más bajos que los valores minimos de los gatos, puede\n",
        "#dar la idea de que hay más dispersión.\n",
        "#En el caso de los perros vemos los valores máximos son igual de altos que los valores máximos de los gatos, al rededor, \n",
        "#de cuatro puntos sobre el Q3. Es decir, 21 en el caso de los perros y 26 en el caso de los perros.\n",
        "#Las distribuciones se agrupan de manera bastante similar.\n"
      ],
      "metadata": {
        "colab": {
          "base_uri": "https://localhost:8080/",
          "height": 347
        },
        "id": "a3qNK-YhhUGf",
        "outputId": "ef33ebe9-e13b-4915-c654-938df64d4766"
      },
      "execution_count": 30,
      "outputs": [
        {
          "output_type": "display_data",
          "data": {
            "image/png": "[encoded data removed]",
            "text/plain": [
              "<Figure size 576x396 with 1 Axes>"
            ]
          },
          "metadata": {}
        }
      ]
    }
  ]
}